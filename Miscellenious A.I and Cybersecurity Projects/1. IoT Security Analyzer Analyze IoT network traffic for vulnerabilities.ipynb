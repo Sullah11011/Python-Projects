{
 "cells": [
  {
   "cell_type": "code",
   "execution_count": null,
   "id": "c62633dc",
   "metadata": {},
   "outputs": [],
   "source": [
    "import scapy.all as scapy\n",
    "from scapy.layers.inet import IP, TCP, UDP\n",
    "\n",
    "# Callback function to process captured packets\n",
    "def packet_callback(packet):\n",
    "    if packet.haslayer(IP):  # Check if the packet has an IP layer\n",
    "        ip_src = packet[IP].src\n",
    "        ip_dst = packet[IP].dst\n",
    "        # Check if the packet contains TCP or UDP layer\n",
    "        if packet.haslayer(TCP) or packet.haslayer(UDP):\n",
    "            print(f\"Packet captured: IP Src: {ip_src} -> IP Dst: {ip_dst} | Protocol: {packet.proto}\")\n",
    "\n",
    "            # Example of detecting specific vulnerabilities (e.g., non-standard port access)\n",
    "            if packet[IP].proto == 6:  # TCP protocol\n",
    "                if packet[TCP].dport not in [80, 443]:  # Check if destination port is not HTTP/HTTPS\n",
    "                    print(f\"Suspicious activity detected! Non-standard TCP port: {packet[TCP].dport}\")\n",
    "\n",
    "# Function to start capturing network traffic\n",
    "def start_analyzing():\n",
    "    print(\"Starting IoT network traffic capture...\")\n",
    "    # Capture packets on all network interfaces\n",
    "    scapy.sniff(prn=packet_callback, store=0)\n",
    "\n",
    "# Start the analyzer\n",
    "start_analyzing()"
   ]
  }
 ],
 "metadata": {
  "kernelspec": {
   "display_name": "Python 3 (ipykernel)",
   "language": "python",
   "name": "python3"
  },
  "language_info": {
   "codemirror_mode": {
    "name": "ipython",
    "version": 3
   },
   "file_extension": ".py",
   "mimetype": "text/x-python",
   "name": "python",
   "nbconvert_exporter": "python",
   "pygments_lexer": "ipython3",
   "version": "3.11.5"
  }
 },
 "nbformat": 4,
 "nbformat_minor": 5
}
