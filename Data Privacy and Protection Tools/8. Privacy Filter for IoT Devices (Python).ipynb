{
 "cells": [
  {
   "cell_type": "code",
   "execution_count": null,
   "id": "61814d33",
   "metadata": {},
   "outputs": [],
   "source": [
    "import scapy.all as scapy\n",
    "\n",
    "# Function to filter privacy-invasive IoT traffic\n",
    "def monitor_iot_traffic(interface=\"eth0\"):\n",
    "    print(\"Monitoring IoT device traffic for privacy issues...\")\n",
    "\n",
    "    def packet_callback(packet):\n",
    "        # Check if packet is IP and contains payload data\n",
    "        if packet.haslayer(scapy.IP):\n",
    "            ip_src = packet[scapy.IP].src\n",
    "            ip_dst = packet[scapy.IP].dst\n",
    "\n",
    "            # Example: Flag IPs related to known privacy-invasive IoT services\n",
    "            invasive_ips = ['192.168.1.100', '192.168.1.101']\n",
    "            if ip_src in invasive_ips or ip_dst in invasive_ips:\n",
    "                print(f\"Privacy-invasive IoT traffic detected: {ip_src} -> {ip_dst}\")\n",
    "\n",
    "    # Start sniffing network traffic\n",
    "    scapy.sniff(iface=interface, prn=packet_callback, store=0)\n",
    "\n",
    "# Example usage: Start monitoring IoT traffic\n",
    "monitor_iot_traffic()"
   ]
  }
 ],
 "metadata": {
  "kernelspec": {
   "display_name": "Python 3 (ipykernel)",
   "language": "python",
   "name": "python3"
  },
  "language_info": {
   "codemirror_mode": {
    "name": "ipython",
    "version": 3
   },
   "file_extension": ".py",
   "mimetype": "text/x-python",
   "name": "python",
   "nbconvert_exporter": "python",
   "pygments_lexer": "ipython3",
   "version": "3.11.5"
  }
 },
 "nbformat": 4,
 "nbformat_minor": 5
}
