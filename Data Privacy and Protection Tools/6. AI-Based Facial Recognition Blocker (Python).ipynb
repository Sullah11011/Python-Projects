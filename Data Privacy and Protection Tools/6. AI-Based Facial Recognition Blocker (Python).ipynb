{
 "cells": [
  {
   "cell_type": "code",
   "execution_count": null,
   "id": "60abfdd2",
   "metadata": {},
   "outputs": [],
   "source": [
    "import cv2\n",
    "import numpy as np\n",
    "\n",
    "# Load pre-trained face detector model from OpenCV\n",
    "face_cascade = cv2.CascadeClassifier(cv2.data.haarcascades + 'haarcascade_frontalface_default.xml')\n",
    "\n",
    "# Function to detect and blur faces in an image\n",
    "def block_faces(image_path):\n",
    "    # Read the image\n",
    "    img = cv2.imread(image_path)\n",
    "    \n",
    "    # Convert the image to grayscale\n",
    "    gray = cv2.cvtColor(img, cv2.COLOR_BGR2GRAY)\n",
    "    \n",
    "    # Detect faces in the image\n",
    "    faces = face_cascade.detectMultiScale(gray, scaleFactor=1.1, minNeighbors=5, minSize=(30, 30))\n",
    "    \n",
    "    for (x, y, w, h) in faces:\n",
    "        # Blur the detected face\n",
    "        face_region = img[y:y+h, x:x+w]\n",
    "        blurred_face = cv2.GaussianBlur(face_region, (99, 99), 30)\n",
    "        img[y:y+h, x:x+w] = blurred_face\n",
    "    \n",
    "    # Save the modified image\n",
    "    cv2.imwrite(\"blocked_faces_output.jpg\", img)\n",
    "    print(\"Faces have been blocked and saved to 'blocked_faces_output.jpg'.\")\n",
    "\n",
    "# Example usage\n",
    "block_faces(\"input_image.jpg\")"
   ]
  }
 ],
 "metadata": {
  "kernelspec": {
   "display_name": "Python 3 (ipykernel)",
   "language": "python",
   "name": "python3"
  },
  "language_info": {
   "codemirror_mode": {
    "name": "ipython",
    "version": 3
   },
   "file_extension": ".py",
   "mimetype": "text/x-python",
   "name": "python",
   "nbconvert_exporter": "python",
   "pygments_lexer": "ipython3",
   "version": "3.11.5"
  }
 },
 "nbformat": 4,
 "nbformat_minor": 5
}
