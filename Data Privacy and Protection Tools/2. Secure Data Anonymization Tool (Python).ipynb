{
 "cells": [
  {
   "cell_type": "code",
   "execution_count": null,
   "id": "fd71c88e",
   "metadata": {},
   "outputs": [],
   "source": [
    "import random\n",
    "import string\n",
    "import pandas as pd\n",
    "from datetime import datetime\n",
    "\n",
    "# Function to generate random data\n",
    "def generate_random_data(data_type=\"string\", length=8):\n",
    "    if data_type == \"string\":\n",
    "        return ''.join(random.choices(string.ascii_letters + string.digits, k=length))\n",
    "    elif data_type == \"email\":\n",
    "        return ''.join(random.choices(string.ascii_lowercase, k=5)) + \"@example.com\"\n",
    "    elif data_type == \"date\":\n",
    "        random_date = datetime.strptime(f\"{random.randint(1, 12)}-{random.randint(1, 31)}-{random.randint(2000, 2023)}\", \"%m-%d-%Y\")\n",
    "        return random_date.strftime(\"%Y-%m-%d\")\n",
    "\n",
    "# Function to anonymize a dataframe column based on data type\n",
    "def anonymize_column(df, column_name, data_type=\"string\"):\n",
    "    df[column_name] = df[column_name].apply(lambda x: generate_random_data(data_type))\n",
    "    return df\n",
    "\n",
    "# Function to anonymize an entire dataset (DataFrame)\n",
    "def anonymize_data(df):\n",
    "    for column in df.columns:\n",
    "        data_type = \"string\"\n",
    "        if df[column].dtype == 'object':  # Assuming object columns may be emails, names, etc.\n",
    "            data_type = \"string\"\n",
    "        elif df[column].dtype == 'datetime64[ns]':\n",
    "            data_type = \"date\"\n",
    "        \n",
    "        df = anonymize_column(df, column, data_type)\n",
    "    return df\n",
    "\n",
    "# Example usage: Anonymize a dataset\n",
    "data = {\n",
    "    \"Name\": [\"John Doe\", \"Jane Smith\", \"Robert Johnson\"],\n",
    "    \"Email\": [\"john.doe@example.com\", \"jane.smith@example.com\", \"robert.johnson@example.com\"],\n",
    "    \"Date_of_Birth\": [\"1990-05-12\", \"1985-02-22\", \"2000-09-14\"]\n",
    "}\n",
    "\n",
    "df = pd.DataFrame(data)\n",
    "print(\"Original Data:\\n\", df)\n",
    "\n",
    "# Anonymize data\n",
    "anonymized_df = anonymize_data(df)\n",
    "print(\"\\nAnonymized Data:\\n\", anonymized_df)"
   ]
  }
 ],
 "metadata": {
  "kernelspec": {
   "display_name": "Python 3 (ipykernel)",
   "language": "python",
   "name": "python3"
  },
  "language_info": {
   "codemirror_mode": {
    "name": "ipython",
    "version": 3
   },
   "file_extension": ".py",
   "mimetype": "text/x-python",
   "name": "python",
   "nbconvert_exporter": "python",
   "pygments_lexer": "ipython3",
   "version": "3.11.5"
  }
 },
 "nbformat": 4,
 "nbformat_minor": 5
}
