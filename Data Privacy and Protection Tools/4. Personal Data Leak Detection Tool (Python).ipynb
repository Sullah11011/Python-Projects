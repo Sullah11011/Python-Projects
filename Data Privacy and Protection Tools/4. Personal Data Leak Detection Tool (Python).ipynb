{
 "cells": [
  {
   "cell_type": "code",
   "execution_count": null,
   "id": "b9813a2d",
   "metadata": {},
   "outputs": [],
   "source": [
    "import requests\n",
    "import hashlib\n",
    "\n",
    "# Function to check if an email has been exposed in a data breach\n",
    "def check_data_leak(email):\n",
    "    # Convert the email to lowercase and hash it using SHA-1\n",
    "    hashed_email = hashlib.sha1(email.lower().encode('utf-8')).hexdigest().upper()\n",
    "    \n",
    "    # Make API request to Have I Been Pwned\n",
    "    api_url = f\"https://api.haveibeenpwned.com/unifiedsearch/{hashed_email}\"\n",
    "    response = requests.get(api_url)\n",
    "    \n",
    "    if response.status_code == 200:\n",
    "        data = response.json()\n",
    "        if data['breaches']:\n",
    "            breach_names = [breach['Name'] for breach in data['breaches']]\n",
    "            return f\"Email found in data breaches: {', '.join(breach_names)}\"\n",
    "        else:\n",
    "            return \"No breaches found for this email.\"\n",
    "    else:\n",
    "        return \"Error occurred while checking for breaches.\"\n",
    "\n",
    "# Example usage\n",
    "email = \"example@example.com\"\n",
    "leak_status = check_data_leak(email)\n",
    "print(leak_status)"
   ]
  }
 ],
 "metadata": {
  "kernelspec": {
   "display_name": "Python 3 (ipykernel)",
   "language": "python",
   "name": "python3"
  },
  "language_info": {
   "codemirror_mode": {
    "name": "ipython",
    "version": 3
   },
   "file_extension": ".py",
   "mimetype": "text/x-python",
   "name": "python",
   "nbconvert_exporter": "python",
   "pygments_lexer": "ipython3",
   "version": "3.11.5"
  }
 },
 "nbformat": 4,
 "nbformat_minor": 5
}
