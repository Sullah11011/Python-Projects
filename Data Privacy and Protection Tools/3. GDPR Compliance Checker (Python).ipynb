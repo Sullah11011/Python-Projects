{
 "cells": [
  {
   "cell_type": "code",
   "execution_count": null,
   "id": "e280ae69",
   "metadata": {},
   "outputs": [],
   "source": [
    "import requests\n",
    "from bs4 import BeautifulSoup\n",
    "\n",
    "# Function to fetch webpage content\n",
    "def fetch_page_content(url):\n",
    "    try:\n",
    "        response = requests.get(url)\n",
    "        response.raise_for_status()  # Raise exception for non-2xx responses\n",
    "        return response.text\n",
    "    except requests.exceptions.RequestException as e:\n",
    "        print(f\"Error fetching the page: {e}\")\n",
    "        return None\n",
    "\n",
    "# Function to check for GDPR-related content in a webpage\n",
    "def check_gdpr_compliance(content):\n",
    "    required_terms = [\"GDPR\", \"data protection\", \"personal data\", \"right to access\", \"consent\"]\n",
    "    \n",
    "    # Parse the content with BeautifulSoup\n",
    "    soup = BeautifulSoup(content, 'html.parser')\n",
    "    body_text = soup.get_text()\n",
    "\n",
    "    # Check if all required terms are present\n",
    "    missing_terms = [term for term in required_terms if term.lower() not in body_text.lower()]\n",
    "    if missing_terms:\n",
    "        return f\"Missing GDPR terms: {', '.join(missing_terms)}\"\n",
    "    else:\n",
    "        return \"GDPR compliant.\"\n",
    "\n",
    "# Function to check a URL for GDPR compliance\n",
    "def check_url_for_gdpr(url):\n",
    "    content = fetch_page_content(url)\n",
    "    if content:\n",
    "        return check_gdpr_compliance(content)\n",
    "    return \"Unable to retrieve content.\"\n",
    "\n",
    "# Example usage\n",
    "url = \"https://www.example.com/privacy-policy\"\n",
    "compliance_status = check_url_for_gdpr(url)\n",
    "print(f\"GDPR Compliance Check for {url}: {compliance_status}\")"
   ]
  }
 ],
 "metadata": {
  "kernelspec": {
   "display_name": "Python 3 (ipykernel)",
   "language": "python",
   "name": "python3"
  },
  "language_info": {
   "codemirror_mode": {
    "name": "ipython",
    "version": 3
   },
   "file_extension": ".py",
   "mimetype": "text/x-python",
   "name": "python",
   "nbconvert_exporter": "python",
   "pygments_lexer": "ipython3",
   "version": "3.11.5"
  }
 },
 "nbformat": 4,
 "nbformat_minor": 5
}
