{
 "cells": [
  {
   "cell_type": "code",
   "execution_count": null,
   "id": "d766adca",
   "metadata": {},
   "outputs": [],
   "source": [
    "import os\n",
    "import re\n",
    "\n",
    "# Function to search for GDPR and CCPA compliance terms in a codebase\n",
    "def check_compliance_in_codebase(directory_path):\n",
    "    compliance_terms = {\n",
    "        'GDPR': ['personal data', 'data processing', 'consent', 'right to access'],\n",
    "        'CCPA': ['consumer rights', 'data deletion', 'opt-out', 'sale of personal information']\n",
    "    }\n",
    "\n",
    "    compliance_report = {\n",
    "        'GDPR': [],\n",
    "        'CCPA': []\n",
    "    }\n",
    "\n",
    "    # Recursively scan files in the directory\n",
    "    for root, dirs, files in os.walk(directory_path):\n",
    "        for file in files:\n",
    "            if file.endswith(('.py', '.html', '.js')):  # Checking source code files\n",
    "                file_path = os.path.join(root, file)\n",
    "                with open(file_path, 'r', encoding='utf-8') as f:\n",
    "                    content = f.read()\n",
    "                    \n",
    "                    # Check for GDPR and CCPA terms\n",
    "                    for law, terms in compliance_terms.items():\n",
    "                        for term in terms:\n",
    "                            if re.search(rf'\\b{term}\\b', content, re.IGNORECASE):\n",
    "                                compliance_report[law].append(f\"{file_path}: Found '{term}'\")\n",
    "\n",
    "    return compliance_report\n",
    "\n",
    "# Example usage: Check compliance in the given directory\n",
    "directory = '/path/to/your/codebase'\n",
    "report = check_compliance_in_codebase(directory)\n",
    "for law, findings in report.items():\n",
    "    print(f\"\\n{law} Compliance Report:\")\n",
    "    for finding in findings:\n",
    "        print(f\"  - {finding}\")"
   ]
  }
 ],
 "metadata": {
  "kernelspec": {
   "display_name": "Python 3 (ipykernel)",
   "language": "python",
   "name": "python3"
  },
  "language_info": {
   "codemirror_mode": {
    "name": "ipython",
    "version": 3
   },
   "file_extension": ".py",
   "mimetype": "text/x-python",
   "name": "python",
   "nbconvert_exporter": "python",
   "pygments_lexer": "ipython3",
   "version": "3.11.5"
  }
 },
 "nbformat": 4,
 "nbformat_minor": 5
}
