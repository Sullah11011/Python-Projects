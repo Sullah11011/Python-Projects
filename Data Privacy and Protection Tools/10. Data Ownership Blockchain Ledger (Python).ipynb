{
 "cells": [
  {
   "cell_type": "code",
   "execution_count": null,
   "id": "24d7ece1",
   "metadata": {},
   "outputs": [],
   "source": [
    "import hashlib\n",
    "import json\n",
    "from time import time\n",
    "\n",
    "class Blockchain:\n",
    "    def __init__(self):\n",
    "        self.chain = []\n",
    "        self.current_transactions = []\n",
    "        self.new_block(previous_hash='1', proof=100)  # Creating the genesis block\n",
    "    \n",
    "    def new_block(self, proof, previous_hash=None):\n",
    "        block = {\n",
    "            'index': len(self.chain) + 1,\n",
    "            'timestamp': time(),\n",
    "            'transactions': self.current_transactions,\n",
    "            'proof': proof,\n",
    "            'previous_hash': previous_hash or self.hash(self.chain[-1]),\n",
    "        }\n",
    "        self.current_transactions = []\n",
    "        self.chain.append(block)\n",
    "        return block\n",
    "\n",
    "    def new_transaction(self, sender, recipient, data):\n",
    "        self.current_transactions.append({\n",
    "            'sender': sender,\n",
    "            'recipient': recipient,\n",
    "            'data': data\n",
    "        })\n",
    "        return self.last_block['index'] + 1\n",
    "\n",
    "    @staticmethod\n",
    "    def hash(block):\n",
    "        block_string = json.dumps(block, sort_keys=True).encode()\n",
    "        return hashlib.sha256(block_string).hexdigest()\n",
    "    \n",
    "    @property\n",
    "    def last_block(self):\n",
    "        return self.chain[-1]\n",
    "\n",
    "# Example usage: Track data ownership on the blockchain\n",
    "blockchain = Blockchain()\n",
    "\n",
    "# Simulate data transactions\n",
    "blockchain.new_transaction(sender=\"User1\", recipient=\"Platform1\", data=\"Sensitive data access\")\n",
    "blockchain.new_block(proof=12345)  # Adding a new block to the chain\n",
    "\n",
    "# Add another transaction\n",
    "blockchain.new_transaction(sender=\"User2\", recipient=\"Platform2\", data=\"User data transfer\")\n",
    "blockchain.new_block(proof=67890)  # Adding another block\n",
    "\n",
    "# Display the blockchain ledger\n",
    "for block in blockchain.chain:\n",
    "    print(block)"
   ]
  }
 ],
 "metadata": {
  "kernelspec": {
   "display_name": "Python 3 (ipykernel)",
   "language": "python",
   "name": "python3"
  },
  "language_info": {
   "codemirror_mode": {
    "name": "ipython",
    "version": 3
   },
   "file_extension": ".py",
   "mimetype": "text/x-python",
   "name": "python",
   "nbconvert_exporter": "python",
   "pygments_lexer": "ipython3",
   "version": "3.11.5"
  }
 },
 "nbformat": 4,
 "nbformat_minor": 5
}
