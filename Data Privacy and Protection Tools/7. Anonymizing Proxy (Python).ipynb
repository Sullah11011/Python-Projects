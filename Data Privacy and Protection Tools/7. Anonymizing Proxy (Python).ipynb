{
 "cells": [
  {
   "cell_type": "code",
   "execution_count": null,
   "id": "40db53ee",
   "metadata": {},
   "outputs": [],
   "source": [
    "import requests\n",
    "\n",
    "class AnonymizingProxy:\n",
    "    def __init__(self, proxy_url):\n",
    "        self.proxy_url = proxy_url\n",
    "    \n",
    "    # Function to fetch data through the proxy\n",
    "    def fetch_data(self, url):\n",
    "        proxies = {\n",
    "            'http': self.proxy_url,\n",
    "            'https': self.proxy_url\n",
    "        }\n",
    "        try:\n",
    "            response = requests.get(url, proxies=proxies, timeout=10)\n",
    "            response.raise_for_status()  # Raise error for bad status codes\n",
    "            return response.text\n",
    "        except requests.exceptions.RequestException as e:\n",
    "            return f\"Error fetching data: {e}\"\n",
    "\n",
    "# Example usage: Use a public proxy server for anonymization\n",
    "proxy = AnonymizingProxy(\"http://your.proxy.server:8080\")\n",
    "response = proxy.fetch_data(\"https://example.com\")\n",
    "print(response)"
   ]
  }
 ],
 "metadata": {
  "kernelspec": {
   "display_name": "Python 3 (ipykernel)",
   "language": "python",
   "name": "python3"
  },
  "language_info": {
   "codemirror_mode": {
    "name": "ipython",
    "version": 3
   },
   "file_extension": ".py",
   "mimetype": "text/x-python",
   "name": "python",
   "nbconvert_exporter": "python",
   "pygments_lexer": "ipython3",
   "version": "3.11.5"
  }
 },
 "nbformat": 4,
 "nbformat_minor": 5
}
