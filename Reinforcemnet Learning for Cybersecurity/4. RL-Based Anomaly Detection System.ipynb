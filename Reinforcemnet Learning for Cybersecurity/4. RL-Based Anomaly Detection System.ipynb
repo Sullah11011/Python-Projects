{
 "cells": [
  {
   "cell_type": "code",
   "execution_count": null,
   "id": "d6c62f5a",
   "metadata": {},
   "outputs": [],
   "source": [
    "class AnomalyDetectionEnv(gym.Env):\n",
    "    def __init__(self):\n",
    "        super(AnomalyDetectionEnv, self).__init__()\n",
    "        self.action_space = gym.spaces.Discrete(2)  # Two actions: anomaly detected or not\n",
    "        self.observation_space = gym.spaces.Discrete(5)  # Five states of normal traffic patterns\n",
    "        self.state = 0  # Start with normal traffic\n",
    "\n",
    "    def reset(self):\n",
    "        self.state = random.choice([0, 1, 2, 3, 4])  # Random traffic pattern state\n",
    "        return self.state\n",
    "\n",
    "    def step(self, action):\n",
    "        if action == 0 and self.state == 0:  # Detect anomaly when no anomaly exists\n",
    "            reward = -1\n",
    "        elif action == 1 and self.state != 0:  # Correctly detect anomaly\n",
    "            reward = 10\n",
    "        else:  # Penalize incorrect actions\n",
    "            reward = -5\n",
    "        done = False\n",
    "        return self.state, reward, done, {}\n",
    "\n",
    "    def render(self):\n",
    "        traffic_map = ['Normal', 'Anomaly1', 'Anomaly2', 'Anomaly3', 'Anomaly4']\n",
    "        print(f\"Current Network State: {traffic_map[self.state]}\")"
   ]
  }
 ],
 "metadata": {
  "kernelspec": {
   "display_name": "Python 3 (ipykernel)",
   "language": "python",
   "name": "python3"
  },
  "language_info": {
   "codemirror_mode": {
    "name": "ipython",
    "version": 3
   },
   "file_extension": ".py",
   "mimetype": "text/x-python",
   "name": "python",
   "nbconvert_exporter": "python",
   "pygments_lexer": "ipython3",
   "version": "3.11.5"
  }
 },
 "nbformat": 4,
 "nbformat_minor": 5
}
