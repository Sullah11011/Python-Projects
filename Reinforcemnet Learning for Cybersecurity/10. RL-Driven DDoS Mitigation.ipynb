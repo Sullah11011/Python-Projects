{
 "cells": [
  {
   "cell_type": "code",
   "execution_count": null,
   "id": "fe0eaec7",
   "metadata": {},
   "outputs": [],
   "source": [
    "class DataLossPreventionEnv(gym.Env):\n",
    "    def __init__(self):\n",
    "        super(DataLossPreventionEnv, self).__init__()\n",
    "        self.action_space = gym.spaces.Discrete(3)  # Actions: block data transfer, alert admin, ignore\n",
    "        self.observation_space = gym.spaces.Discrete(3)  # States: normal, suspicious, exfiltrating\n",
    "        self.state = 0  # Initial state: normal\n",
    "\n",
    "    def reset(self):\n",
    "        self.state = random.choice([0, 1, 2])  # Random start state: normal, suspicious, exfiltrating\n",
    "        return self.state\n",
    "\n",
    "    def step(self, action):\n",
    "        state = self.state\n",
    "        reward = 0\n",
    "        done = False\n",
    "\n",
    "        if state == 0:  # Normal state\n",
    "            if action == 2:  # Ignore\n",
    "                reward = -1\n",
    "            else:\n",
    "                reward = 1\n",
    "        elif state == 1:  # Suspicious state\n",
    "            if action == 0:  # Block data transfer\n",
    "                reward = 5\n",
    "                self.state = 0  # Return to normal state\n",
    "            elif action == 1:  # Alert admin\n",
    "                reward = 3\n",
    "            else:\n",
    "                reward = -1\n",
    "        elif state == 2:  # Exfiltrating state\n",
    "            if action == 0:  # Block data transfer\n",
    "                reward = 10\n",
    "                self.state = 0  # Return to normal state\n",
    "            elif action == 1:  # Alert admin\n",
    "                reward = 6\n",
    "            else:\n",
    "                reward = -2\n",
    "\n",
    "        return self.state, reward, done, {}\n",
    "\n",
    "    def render(self):\n",
    "        state_map = ['Normal', 'Suspicious', 'Exfiltrating']\n",
    "        print(f\"Data Loss Prevention State: {state_map[self.state]}\")"
   ]
  }
 ],
 "metadata": {
  "kernelspec": {
   "display_name": "Python 3 (ipykernel)",
   "language": "python",
   "name": "python3"
  },
  "language_info": {
   "codemirror_mode": {
    "name": "ipython",
    "version": 3
   },
   "file_extension": ".py",
   "mimetype": "text/x-python",
   "name": "python",
   "nbconvert_exporter": "python",
   "pygments_lexer": "ipython3",
   "version": "3.11.5"
  }
 },
 "nbformat": 4,
 "nbformat_minor": 5
}
