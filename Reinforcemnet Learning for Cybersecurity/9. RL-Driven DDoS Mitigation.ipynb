{
 "cells": [
  {
   "cell_type": "code",
   "execution_count": null,
   "id": "9789e4f7",
   "metadata": {},
   "outputs": [],
   "source": [
    "class DDoSMitigationEnv(gym.Env):\n",
    "    def __init__(self):\n",
    "        super(DDoSMitigationEnv, self).__init__()\n",
    "        self.action_space = gym.spaces.Discrete(4)  # Four actions: block IPs, increase bandwidth, deploy WAF, ignore\n",
    "        self.observation_space = gym.spaces.Discrete(3)  # Three traffic levels: normal, moderate attack, heavy attack\n",
    "        self.state = 0  # Start with normal traffic\n",
    "\n",
    "    def reset(self):\n",
    "        self.state = random.choice([0, 1, 2])  # Random state: normal, moderate, or heavy attack\n",
    "        return self.state\n",
    "\n",
    "    def step(self, action):\n",
    "        state = self.state\n",
    "        reward = 0\n",
    "        done = False\n",
    "\n",
    "        if state == 0:  # Normal traffic\n",
    "            if action == 3:  # Ignore\n",
    "                reward = -1\n",
    "            else:\n",
    "                reward = 1\n",
    "        elif state == 1:  # Moderate attack\n",
    "            if action == 0:  # Block IPs\n",
    "                reward = 5\n",
    "            elif action == 1:  # Increase bandwidth\n",
    "                reward = 3\n",
    "            elif action == 2:  # Deploy WAF\n",
    "                reward = 6\n",
    "            else:\n",
    "                reward = -1\n",
    "        else:  # Heavy attack\n",
    "            if action == 0:  # Block IPs\n",
    "                reward = 10\n",
    "            elif action == 1:  # Increase bandwidth\n",
    "                reward = 7\n",
    "            elif action == 2:  # Deploy WAF\n",
    "                reward = 8\n",
    "            else:\n",
    "                reward = -2\n",
    "\n",
    "        return self.state, reward, done, {}\n",
    "\n",
    "    def render(self):\n",
    "        state_map = ['Normal Traffic', 'Moderate Attack', 'Heavy Attack']\n",
    "        print(f\"Network Traffic: {state_map[self.state]}\")"
   ]
  }
 ],
 "metadata": {
  "kernelspec": {
   "display_name": "Python 3 (ipykernel)",
   "language": "python",
   "name": "python3"
  },
  "language_info": {
   "codemirror_mode": {
    "name": "ipython",
    "version": 3
   },
   "file_extension": ".py",
   "mimetype": "text/x-python",
   "name": "python",
   "nbconvert_exporter": "python",
   "pygments_lexer": "ipython3",
   "version": "3.11.5"
  }
 },
 "nbformat": 4,
 "nbformat_minor": 5
}
