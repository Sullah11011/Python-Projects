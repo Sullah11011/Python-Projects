{
 "cells": [
  {
   "cell_type": "code",
   "execution_count": null,
   "id": "0365a6c3",
   "metadata": {},
   "outputs": [],
   "source": [
    "import gym\n",
    "import numpy as np\n",
    "import random\n",
    "\n",
    "class ThreatResponseEnv(gym.Env):\n",
    "    def __init__(self):\n",
    "        super(ThreatResponseEnv, self).__init__()\n",
    "        self.action_space = gym.spaces.Discrete(5)  # Five actions (e.g., block IP, raise alert, etc.)\n",
    "        self.observation_space = gym.spaces.Discrete(3)  # Three levels of threat severity: low, medium, high\n",
    "        self.state = 0  # Initial state: low threat\n",
    "        self.reward_range = (-10, 10)\n",
    "\n",
    "    def reset(self):\n",
    "        self.state = random.choice([0, 1, 2])  # Random threat level (0: low, 1: medium, 2: high)\n",
    "        return self.state\n",
    "\n",
    "    def step(self, action):\n",
    "        threat_severity = self.state\n",
    "        if action == 0 and threat_severity == 2:  # Block IP on high threat\n",
    "            reward = 10\n",
    "            done = True\n",
    "        elif action == 1 and threat_severity == 1:  # Raise alert on medium threat\n",
    "            reward = 5\n",
    "            done = False\n",
    "        else:  # All other scenarios result in a penalty\n",
    "            reward = -1\n",
    "            done = False\n",
    "        return self.state, reward, done, {}\n",
    "\n",
    "    def render(self):\n",
    "        threat_map = ['Low Threat', 'Medium Threat', 'High Threat']\n",
    "        print(f\"Current Threat Level: {threat_map[self.state]}\")\n",
    "\n",
    "env = ThreatResponseEnv()"
   ]
  }
 ],
 "metadata": {
  "kernelspec": {
   "display_name": "Python 3 (ipykernel)",
   "language": "python",
   "name": "python3"
  },
  "language_info": {
   "codemirror_mode": {
    "name": "ipython",
    "version": 3
   },
   "file_extension": ".py",
   "mimetype": "text/x-python",
   "name": "python",
   "nbconvert_exporter": "python",
   "pygments_lexer": "ipython3",
   "version": "3.11.5"
  }
 },
 "nbformat": 4,
 "nbformat_minor": 5
}
