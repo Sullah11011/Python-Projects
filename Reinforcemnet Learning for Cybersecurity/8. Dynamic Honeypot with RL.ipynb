{
 "cells": [
  {
   "cell_type": "code",
   "execution_count": null,
   "id": "c596dae5",
   "metadata": {},
   "outputs": [],
   "source": [
    "class HoneypotEnv(gym.Env):\n",
    "    def __init__(self):\n",
    "        super(HoneypotEnv, self).__init__()\n",
    "        self.action_space = gym.spaces.Discrete(3)  # Actions: emulate attack, trap attacker, ignore\n",
    "        self.observation_space = gym.spaces.Discrete(4)  # States: idle, active attacker, passive attacker, detected\n",
    "        self.state = 0  # Initial state: idle\n",
    "\n",
    "    def reset(self):\n",
    "        self.state = random.choice([0, 1, 2])  # Random state: idle, active attacker, or passive attacker\n",
    "        return self.state\n",
    "\n",
    "    def step(self, action):\n",
    "        state = self.state\n",
    "        reward = 0\n",
    "        done = False\n",
    "\n",
    "        if action == 0:  # Emulate attack\n",
    "            if state == 1:  # Active attacker\n",
    "                reward = 10\n",
    "                self.state = 2  # Switch to passive attacker\n",
    "            elif state == 0:  # Idle state\n",
    "                reward = 2\n",
    "            else:\n",
    "                reward = -5\n",
    "\n",
    "        elif action == 1:  # Trap attacker\n",
    "            if state == 1:  # Active attacker\n",
    "                reward = 20\n",
    "                self.state = 3  # Detected\n",
    "            else:\n",
    "                reward = -1\n",
    "\n",
    "        elif action == 2:  # Ignore\n",
    "            if state == 2:  # Passive attacker\n",
    "                reward = -2\n",
    "            else:\n",
    "                reward = 0\n",
    "\n",
    "        return self.state, reward, done, {}\n",
    "\n",
    "    def render(self):\n",
    "        state_map = ['Idle', 'Active Attacker', 'Passive Attacker', 'Detected']\n",
    "        print(f\"Honeypot State: {state_map[self.state]}\")"
   ]
  }
 ],
 "metadata": {
  "kernelspec": {
   "display_name": "Python 3 (ipykernel)",
   "language": "python",
   "name": "python3"
  },
  "language_info": {
   "codemirror_mode": {
    "name": "ipython",
    "version": 3
   },
   "file_extension": ".py",
   "mimetype": "text/x-python",
   "name": "python",
   "nbconvert_exporter": "python",
   "pygments_lexer": "ipython3",
   "version": "3.11.5"
  }
 },
 "nbformat": 4,
 "nbformat_minor": 5
}
