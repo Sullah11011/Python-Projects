{
 "cells": [
  {
   "cell_type": "code",
   "execution_count": null,
   "id": "7031685f",
   "metadata": {},
   "outputs": [],
   "source": [
    "class RiskAssessmentEnv(gym.Env):\n",
    "    def __init__(self):\n",
    "        super(RiskAssessmentEnv, self).__init__()\n",
    "        self.action_space = gym.spaces.Discrete(3)  # Actions: risk mitigation strategies\n",
    "        self.observation_space = gym.spaces.Discrete(5)  # Five levels of risk\n",
    "        self.state = 2  # Start with medium risk\n",
    "\n",
    "    def reset(self):\n",
    "        self.state = random.choice([0, 1, 2, 3, 4])  # Random risk level\n",
    "        return self.state\n",
    "\n",
    "    def step(self, action):\n",
    "        risk = self.state\n",
    "        if action == 0 and risk == 4:  # Apply mitigation on high risk\n",
    "            reward = 10\n",
    "        elif action == 1 and risk == 2:  # Moderate action on medium risk\n",
    "            reward = 5\n",
    "        else:  # Incorrect action, penalize\n",
    "            reward = -5\n",
    "        return self.state, reward, False, {}\n",
    "\n",
    "    def render(self):\n",
    "        risk_map = ['Very Low Risk', 'Low Risk', 'Medium Risk', 'High Risk', 'Critical Risk']\n",
    "        print(f\"Current Risk Level: {risk_map[self.state]}\")"
   ]
  }
 ],
 "metadata": {
  "kernelspec": {
   "display_name": "Python 3 (ipykernel)",
   "language": "python",
   "name": "python3"
  },
  "language_info": {
   "codemirror_mode": {
    "name": "ipython",
    "version": 3
   },
   "file_extension": ".py",
   "mimetype": "text/x-python",
   "name": "python",
   "nbconvert_exporter": "python",
   "pygments_lexer": "ipython3",
   "version": "3.11.5"
  }
 },
 "nbformat": 4,
 "nbformat_minor": 5
}
