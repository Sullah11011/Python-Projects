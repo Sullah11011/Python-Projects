{
 "cells": [
  {
   "cell_type": "code",
   "execution_count": null,
   "id": "11c9f23a",
   "metadata": {},
   "outputs": [],
   "source": [
    "class FirewallPolicyEnv(gym.Env):\n",
    "    def __init__(self):\n",
    "        super(FirewallPolicyEnv, self).__init__()\n",
    "        self.action_space = gym.spaces.Discrete(4)  # Four firewall actions (e.g., allow, block, monitor, alert)\n",
    "        self.observation_space = gym.spaces.Discrete(3)  # Three states (low, medium, high network traffic)\n",
    "        self.state = 0  # Initial state: low traffic\n",
    "\n",
    "    def reset(self):\n",
    "        self.state = random.choice([0, 1, 2])  # Random traffic level\n",
    "        return self.state\n",
    "\n",
    "    def step(self, action):\n",
    "        traffic = self.state\n",
    "        if action == 0 and traffic == 1:  # Allow in medium traffic\n",
    "            reward = 5\n",
    "            done = False\n",
    "        elif action == 1 and traffic == 2:  # Block in high traffic\n",
    "            reward = 10\n",
    "            done = False\n",
    "        else:  # Penalize incorrect action\n",
    "            reward = -1\n",
    "            done = False\n",
    "        return self.state, reward, done, {}\n",
    "\n",
    "    def render(self):\n",
    "        traffic_map = ['Low Traffic', 'Medium Traffic', 'High Traffic']\n",
    "        print(f\"Current Network Traffic: {traffic_map[self.state]}\")"
   ]
  }
 ],
 "metadata": {
  "kernelspec": {
   "display_name": "Python 3 (ipykernel)",
   "language": "python",
   "name": "python3"
  },
  "language_info": {
   "codemirror_mode": {
    "name": "ipython",
    "version": 3
   },
   "file_extension": ".py",
   "mimetype": "text/x-python",
   "name": "python",
   "nbconvert_exporter": "python",
   "pygments_lexer": "ipython3",
   "version": "3.11.5"
  }
 },
 "nbformat": 4,
 "nbformat_minor": 5
}
