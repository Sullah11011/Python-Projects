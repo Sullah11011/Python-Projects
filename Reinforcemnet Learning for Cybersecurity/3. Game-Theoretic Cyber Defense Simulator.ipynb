{
 "cells": [
  {
   "cell_type": "code",
   "execution_count": null,
   "id": "6e2f27fa",
   "metadata": {},
   "outputs": [],
   "source": [
    "class GameTheoryEnv(gym.Env):\n",
    "    def __init__(self):\n",
    "        super(GameTheoryEnv, self).__init__()\n",
    "        self.action_space = gym.spaces.Discrete(3)  # Three actions (e.g., defend, attack, no action)\n",
    "        self.observation_space = gym.spaces.Discrete(2)  # Two states (attacker, defender)\n",
    "        self.state = 0  # Start as defender\n",
    "\n",
    "    def reset(self):\n",
    "        self.state = random.choice([0, 1])  # Random player turn (0: defender, 1: attacker)\n",
    "        return self.state\n",
    "\n",
    "    def step(self, action):\n",
    "        if self.state == 0:  # Defender's turn\n",
    "            if action == 0:  # Defend\n",
    "                reward = 5\n",
    "            elif action == 1:  # Attack\n",
    "                reward = -5\n",
    "            else:  # No action\n",
    "                reward = 0\n",
    "        else:  # Attacker's turn\n",
    "            if action == 0:  # Defend\n",
    "                reward = -5\n",
    "            elif action == 1:  # Attack\n",
    "                reward = 10\n",
    "            else:  # No action\n",
    "                reward = 0\n",
    "        return self.state, reward, False, {}\n",
    "\n",
    "    def render(self):\n",
    "        player = 'Defender' if self.state == 0 else 'Attacker'\n",
    "        print(f\"Current Player: {player}\")"
   ]
  }
 ],
 "metadata": {
  "kernelspec": {
   "display_name": "Python 3 (ipykernel)",
   "language": "python",
   "name": "python3"
  },
  "language_info": {
   "codemirror_mode": {
    "name": "ipython",
    "version": 3
   },
   "file_extension": ".py",
   "mimetype": "text/x-python",
   "name": "python",
   "nbconvert_exporter": "python",
   "pygments_lexer": "ipython3",
   "version": "3.11.5"
  }
 },
 "nbformat": 4,
 "nbformat_minor": 5
}
