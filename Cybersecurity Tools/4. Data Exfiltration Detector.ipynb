{
 "cells": [
  {
   "cell_type": "code",
   "execution_count": null,
   "id": "18511626",
   "metadata": {},
   "outputs": [],
   "source": [
    "import pandas as pd\n",
    "from sklearn.ensemble import IsolationForest\n",
    "from sklearn.preprocessing import StandardScaler\n",
    "from sklearn.metrics import classification_report, confusion_matrix\n",
    "import seaborn as sns\n",
    "import matplotlib.pyplot as plt\n",
    "\n",
    "# Load network traffic data\n",
    "df = pd.read_csv('network_traffic.csv')\n",
    "df.fillna(0, inplace=True)\n",
    "\n",
    "# Feature selection and scaling\n",
    "features = ['packet_size', 'duration', 'num_packets', 'bytes_sent', 'bytes_received']\n",
    "X = df[features]\n",
    "scaler = StandardScaler()\n",
    "X_scaled = scaler.fit_transform(X)\n",
    "\n",
    "# Training the Isolation Forest model\n",
    "isolation_forest = IsolationForest(n_estimators=100, contamination=0.01, random_state=42)\n",
    "isolation_forest.fit(X_scaled)\n",
    "\n",
    "# Prediction: -1 for anomaly, 1 for normal\n",
    "df['prediction'] = isolation_forest.predict(X_scaled)\n",
    "df['prediction'] = df['prediction'].apply(lambda x: 1 if x == -1 else 0)\n",
    "\n",
    "# Evaluation metrics\n",
    "print(\"Anomalies detected:\", df['prediction'].sum())\n",
    "print(\"Confusion Matrix:\\n\", confusion_matrix(df['actual'], df['prediction']))\n",
    "print(\"Classification Report:\\n\", classification_report(df['actual'], df['prediction']))\n",
    "\n",
    "# Plot anomaly scores\n",
    "df['anomaly_score'] = isolation_forest.decision_function(X_scaled)\n",
    "plt.figure(figsize=(10, 6))\n",
    "sns.histplot(df['anomaly_score'], kde=True)\n",
    "plt.title(\"Anomaly Score Distribution\")\n",
    "plt.xlabel(\"Anomaly Score\")\n",
    "plt.show()\n",
    "\n",
    "# Save the model for future use\n",
    "import joblib\n",
    "joblib.dump(isolation_forest, 'data_exfiltration_detector.pkl')\n",
    "print(\"Model saved as data_exfiltration_detector.pkl\")\n"
   ]
  }
 ],
 "metadata": {
  "kernelspec": {
   "display_name": "Python 3 (ipykernel)",
   "language": "python",
   "name": "python3"
  },
  "language_info": {
   "codemirror_mode": {
    "name": "ipython",
    "version": 3
   },
   "file_extension": ".py",
   "mimetype": "text/x-python",
   "name": "python",
   "nbconvert_exporter": "python",
   "pygments_lexer": "ipython3",
   "version": "3.11.5"
  }
 },
 "nbformat": 4,
 "nbformat_minor": 5
}
