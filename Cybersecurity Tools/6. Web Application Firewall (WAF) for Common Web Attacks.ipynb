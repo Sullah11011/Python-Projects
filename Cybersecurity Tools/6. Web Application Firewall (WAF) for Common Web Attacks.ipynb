{
 "cells": [
  {
   "cell_type": "code",
   "execution_count": null,
   "id": "0987b46b",
   "metadata": {},
   "outputs": [],
   "source": [
    "import re\n",
    "\n",
    "class WebApplicationFirewall:\n",
    "    def __init__(self):\n",
    "        self.sql_patterns = [r\"(\\bor\\b.*=)\", r\"(;|--|#|%27|'|--|%23|%24|%2F)\"]\n",
    "        self.xss_patterns = [r\"<script>\", r\"javascript:\", r\"onerror=\"]\n",
    "\n",
    "    def is_sql_injection(self, query):\n",
    "        for pattern in self.sql_patterns:\n",
    "            if re.search(pattern, query, re.IGNORECASE):\n",
    "                return True\n",
    "        return False\n",
    "\n",
    "    def is_xss_attack(self, input_text):\n",
    "        for pattern in self.xss_patterns:\n",
    "            if re.search(pattern, input_text, re.IGNORECASE):\n",
    "                return True\n",
    "        return False\n",
    "\n",
    "    def inspect_request(self, request):\n",
    "        url = request.get('url', '')\n",
    "        query = request.get('query', '')\n",
    "        headers = request.get('headers', {})\n",
    "        body = request.get('body', '')\n",
    "\n",
    "        if self.is_sql_injection(query) or self.is_sql_injection(body):\n",
    "            print(f\"Blocked SQL Injection Attempt on URL: {url}\")\n",
    "            return False\n",
    "        if self.is_xss_attack(body) or self.is_xss_attack(url):\n",
    "            print(f\"Blocked XSS Attack Attempt on URL: {url}\")\n",
    "            return False\n",
    "        return True\n",
    "\n",
    "# Simulate incoming HTTP requests\n",
    "requests = [\n",
    "    {\"url\": \"https://example.com/search\", \"query\": \"name=admin'--\", \"headers\": {}, \"body\": \"\"},\n",
    "    {\"url\": \"https://example.com/login\", \"query\": \"\", \"headers\": {}, \"body\": \"<script>alert(1)</script>\"},\n",
    "    {\"url\": \"https://example.com/page\", \"query\": \"id=10\", \"headers\": {}, \"body\": \"\"}\n",
    "]\n",
    "\n",
    "# Instantiate WAF\n",
    "waf = WebApplicationFirewall()\n",
    "for request in requests:\n",
    "    if waf.inspect_request(request):\n",
    "        print(f\"Request allowed: {request['url']}\")\n",
    "    else:\n",
    "        print(f\"Request blocked: {request['url']}\")"
   ]
  }
 ],
 "metadata": {
  "kernelspec": {
   "display_name": "Python 3 (ipykernel)",
   "language": "python",
   "name": "python3"
  },
  "language_info": {
   "codemirror_mode": {
    "name": "ipython",
    "version": 3
   },
   "file_extension": ".py",
   "mimetype": "text/x-python",
   "name": "python",
   "nbconvert_exporter": "python",
   "pygments_lexer": "ipython3",
   "version": "3.11.5"
  }
 },
 "nbformat": 4,
 "nbformat_minor": 5
}
