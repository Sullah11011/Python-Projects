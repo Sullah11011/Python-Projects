{
 "cells": [
  {
   "cell_type": "code",
   "execution_count": null,
   "id": "1740ba51",
   "metadata": {},
   "outputs": [],
   "source": [
    "from scapy.all import sniff, IP, TCP, UDP\n",
    "import pandas as pd\n",
    "import numpy as np\n",
    "from sklearn.ensemble import IsolationForest\n",
    "\n",
    "# Initialize packet features dataframe\n",
    "packet_data = pd.DataFrame(columns=['packet_size', 'ip_src', 'ip_dst', 'protocol', 'is_anomaly'])\n",
    "\n",
    "# Anomaly detection model\n",
    "isolation_forest = IsolationForest(contamination=0.05, random_state=42)\n",
    "\n",
    "def process_packet(packet):\n",
    "    if IP in packet:\n",
    "        packet_size = len(packet)\n",
    "        ip_src = packet[IP].src\n",
    "        ip_dst = packet[IP].dst\n",
    "        protocol = packet[IP].proto\n",
    "        packet_data.loc[len(packet_data)] = [packet_size, ip_src, ip_dst, protocol, 0]\n",
    "\n",
    "    if len(packet_data) >= 10:  # Every 10 packets, analyze for anomalies\n",
    "        X = packet_data[['packet_size']]\n",
    "        packet_data['is_anomaly'] = isolation_forest.fit_predict(X)\n",
    "        anomalies = packet_data[packet_data['is_anomaly'] == -1]\n",
    "        if not anomalies.empty:\n",
    "            print(\"Anomalous packets detected!\")\n",
    "            print(anomalies)\n",
    "        packet_data.drop(packet_data.index, inplace=True)  # Reset data after checking\n",
    "\n",
    "# Start sniffing packets\n",
    "print(\"Starting packet sniffing...\")\n",
    "sniff(prn=process_packet, count=50)  # Sniff 50 packets, but could be infinite for real-time detection"
   ]
  }
 ],
 "metadata": {
  "kernelspec": {
   "display_name": "Python 3 (ipykernel)",
   "language": "python",
   "name": "python3"
  },
  "language_info": {
   "codemirror_mode": {
    "name": "ipython",
    "version": 3
   },
   "file_extension": ".py",
   "mimetype": "text/x-python",
   "name": "python",
   "nbconvert_exporter": "python",
   "pygments_lexer": "ipython3",
   "version": "3.11.5"
  }
 },
 "nbformat": 4,
 "nbformat_minor": 5
}
