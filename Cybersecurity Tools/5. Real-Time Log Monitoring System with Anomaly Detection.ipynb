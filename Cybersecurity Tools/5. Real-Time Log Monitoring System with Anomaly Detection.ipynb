{
 "cells": [
  {
   "cell_type": "code",
   "execution_count": null,
   "id": "9a68b9a8",
   "metadata": {},
   "outputs": [],
   "source": [
    "import pandas as pd\n",
    "import numpy as np\n",
    "from sklearn.cluster import DBSCAN\n",
    "from sklearn.preprocessing import StandardScaler\n",
    "import time\n",
    "from datetime import datetime\n",
    "\n",
    "# Load initial log data and preprocess\n",
    "df = pd.read_csv('server_logs.csv')\n",
    "df['timestamp'] = pd.to_datetime(df['timestamp'])\n",
    "df['log_length'] = df['log_message'].apply(len)\n",
    "\n",
    "# Feature selection and scaling\n",
    "features = ['log_length', 'status_code', 'response_time']\n",
    "X = df[features]\n",
    "scaler = StandardScaler()\n",
    "X_scaled = scaler.fit_transform(X)\n",
    "\n",
    "# Model training with DBSCAN for anomaly detection\n",
    "dbscan = DBSCAN(eps=0.5, min_samples=10)\n",
    "df['cluster'] = dbscan.fit_predict(X_scaled)\n",
    "df['anomaly'] = df['cluster'].apply(lambda x: 1 if x == -1 else 0)\n",
    "\n",
    "# Monitor logs in real-time\n",
    "def monitor_logs(new_log):\n",
    "    new_log['log_length'] = len(new_log['log_message'])\n",
    "    new_log_features = scaler.transform(new_log[features].values.reshape(1, -1))\n",
    "    cluster = dbscan.fit_predict(new_log_features)\n",
    "    is_anomaly = 1 if cluster == -1 else 0\n",
    "    print(f\"Log at {new_log['timestamp']}: {'Anomaly' if is_anomaly else 'Normal'}\")\n",
    "    return is_anomaly\n",
    "\n",
    "# Simulate real-time log monitoring\n",
    "for index, row in df.iterrows():\n",
    "    time.sleep(1)\n",
    "    is_anomaly = monitor_logs(row)\n",
    "    if is_anomaly:\n",
    "        print(f\"ALERT: Anomalous log detected at {row['timestamp']}\")\n",
    "\n",
    "# Save the model for future real-time monitoring\n",
    "import joblib\n",
    "joblib.dump(dbscan, 'log_monitoring_dbscan_model.pkl')\n",
    "print(\"Model saved as log_monitoring_dbscan_model.pkl\")"
   ]
  }
 ],
 "metadata": {
  "kernelspec": {
   "display_name": "Python 3 (ipykernel)",
   "language": "python",
   "name": "python3"
  },
  "language_info": {
   "codemirror_mode": {
    "name": "ipython",
    "version": 3
   },
   "file_extension": ".py",
   "mimetype": "text/x-python",
   "name": "python",
   "nbconvert_exporter": "python",
   "pygments_lexer": "ipython3",
   "version": "3.11.5"
  }
 },
 "nbformat": 4,
 "nbformat_minor": 5
}
