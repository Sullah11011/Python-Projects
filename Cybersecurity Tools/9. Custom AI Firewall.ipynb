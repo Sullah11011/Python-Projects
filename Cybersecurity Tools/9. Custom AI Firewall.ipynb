{
 "cells": [
  {
   "cell_type": "code",
   "execution_count": null,
   "id": "c4f60479",
   "metadata": {},
   "outputs": [],
   "source": [
    "import pandas as pd\n",
    "from sklearn.ensemble import RandomForestClassifier\n",
    "from sklearn.preprocessing import StandardScaler\n",
    "import joblib\n",
    "import numpy as np\n",
    "\n",
    "# Load network traffic data and preprocess\n",
    "df = pd.read_csv('network_traffic.csv')\n",
    "df.fillna(0, inplace=True)\n",
    "\n",
    "# Feature selection\n",
    "features = ['bytes_sent', 'bytes_received', 'duration', 'num_packets']\n",
    "X = df[features]\n",
    "y = df['is_malicious']  # 1 for malicious IP, 0 for benign IP\n",
    "\n",
    "# Scale the features\n",
    "scaler = StandardScaler()\n",
    "X_scaled = scaler.fit_transform(X)\n",
    "\n",
    "# Train a random forest classifier\n",
    "clf = RandomForestClassifier(n_estimators=100, random_state=42)\n",
    "clf.fit(X_scaled, y)\n",
    "\n",
    "# Save the trained model\n",
    "joblib.dump(clf, 'ai_firewall_model.pkl')\n",
    "joblib.dump(scaler, 'ai_firewall_scaler.pkl')\n",
    "\n",
    "# Function to check if IP is malicious\n",
    "def check_ip_traffic(ip_traffic_data):\n",
    "    ip_data = np.array(ip_traffic_data).reshape(1, -1)\n",
    "    ip_data_scaled = scaler.transform(ip_data)\n",
    "    prediction = clf.predict(ip_data_scaled)\n",
    "    return \"Malicious IP\" if prediction == 1 else \"Benign IP\"\n",
    "\n",
    "# Example: Check traffic from an IP\n",
    "sample_ip_traffic = [500, 300, 120, 15]  # Example features for an IP\n",
    "print(check_ip_traffic(sample_ip_traffic))"
   ]
  }
 ],
 "metadata": {
  "kernelspec": {
   "display_name": "Python 3 (ipykernel)",
   "language": "python",
   "name": "python3"
  },
  "language_info": {
   "codemirror_mode": {
    "name": "ipython",
    "version": 3
   },
   "file_extension": ".py",
   "mimetype": "text/x-python",
   "name": "python",
   "nbconvert_exporter": "python",
   "pygments_lexer": "ipython3",
   "version": "3.11.5"
  }
 },
 "nbformat": 4,
 "nbformat_minor": 5
}
