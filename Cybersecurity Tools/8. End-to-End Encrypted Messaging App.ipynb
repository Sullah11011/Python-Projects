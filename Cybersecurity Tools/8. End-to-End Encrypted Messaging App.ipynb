{
 "cells": [
  {
   "cell_type": "code",
   "execution_count": null,
   "id": "22773244",
   "metadata": {},
   "outputs": [],
   "source": [
    "from Crypto.PublicKey import RSA\n",
    "from Crypto.Cipher import PKCS1_OAEP, AES\n",
    "from Crypto.Random import get_random_bytes\n",
    "import base64\n",
    "\n",
    "# Generate RSA key pair\n",
    "def generate_keys():\n",
    "    key = RSA.generate(2048)\n",
    "    private_key = key.export_key()\n",
    "    public_key = key.publickey().export_key()\n",
    "    return private_key, public_key\n",
    "\n",
    "# Encrypt message with AES, and RSA for AES key\n",
    "def encrypt_message(message, public_key):\n",
    "    aes_key = get_random_bytes(16)\n",
    "    cipher_aes = AES.new(aes_key, AES.MODE_EAX)\n",
    "    ciphertext, tag = cipher_aes.encrypt_and_digest(message.encode())\n",
    "    \n",
    "    rsa_key = RSA.import_key(public_key)\n",
    "    cipher_rsa = PKCS1_OAEP.new(rsa_key)\n",
    "    encrypted_key = cipher_rsa.encrypt(aes_key)\n",
    "\n",
    "    return base64.b64encode(encrypted_key + cipher_aes.nonce + tag + ciphertext)\n",
    "\n",
    "# Decrypt message using RSA and AES\n",
    "def decrypt_message(encrypted_message, private_key):\n",
    "    data = base64.b64decode(encrypted_message)\n",
    "    encrypted_key = data[:256]\n",
    "    nonce = data[256:272]\n",
    "    tag = data[272:288]\n",
    "    ciphertext = data[288:]\n",
    "    \n",
    "    rsa_key = RSA.import_key(private_key)\n",
    "    cipher_rsa = PKCS1_OAEP.new(rsa_key)\n",
    "    aes_key = cipher_rsa.decrypt(encrypted_key)\n",
    "    \n",
    "    cipher_aes = AES.new(aes_key, AES.MODE_EAX, nonce=nonce)\n",
    "    return cipher_aes.decrypt_and_verify(ciphertext, tag).decode()\n",
    "\n",
    "# Example usage\n",
    "private_key, public_key = generate_keys()\n",
    "message = \"Hello, secure world!\"\n",
    "encrypted_msg = encrypt_message(message, public_key)\n",
    "decrypted_msg = decrypt_message(encrypted_msg, private_key)\n",
    "print(\"Original:\", message)\n",
    "print(\"Decrypted:\", decrypted_msg)"
   ]
  }
 ],
 "metadata": {
  "kernelspec": {
   "display_name": "Python 3 (ipykernel)",
   "language": "python",
   "name": "python3"
  },
  "language_info": {
   "codemirror_mode": {
    "name": "ipython",
    "version": 3
   },
   "file_extension": ".py",
   "mimetype": "text/x-python",
   "name": "python",
   "nbconvert_exporter": "python",
   "pygments_lexer": "ipython3",
   "version": "3.11.5"
  }
 },
 "nbformat": 4,
 "nbformat_minor": 5
}
