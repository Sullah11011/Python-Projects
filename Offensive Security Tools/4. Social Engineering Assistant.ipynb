{
 "cells": [
  {
   "cell_type": "code",
   "execution_count": null,
   "id": "0acf4eea",
   "metadata": {},
   "outputs": [],
   "source": [
    "import random\n",
    "import smtplib\n",
    "from email.mime.text import MIMEText\n",
    "from email.mime.multipart import MIMEMultipart\n",
    "from faker import Faker\n",
    "\n",
    "fake = Faker()\n",
    "\n",
    "# Generate social engineering phishing email\n",
    "def generate_phishing_email(target_name, target_email):\n",
    "    subject = \"Urgent: Security Update Required\"\n",
    "    body = f\"Dear {target_name},\\n\\nPlease click the link below to verify your account. Failure to do so will result in a temporary suspension of your account.\\n\\n[Verification Link]\\n\\nBest regards,\\nYour Security Team\"\n",
    "\n",
    "    message = MIMEMultipart()\n",
    "    message['From'] = 'security@fakebank.com'\n",
    "    message['To'] = target_email\n",
    "    message['Subject'] = subject\n",
    "    message.attach(MIMEText(body, 'plain'))\n",
    "\n",
    "    return message\n",
    "\n",
    "# Send phishing email using SMTP\n",
    "def send_phishing_email(message, target_email):\n",
    "    try:\n",
    "        with smtplib.SMTP('smtp.fakebank.com', 587) as server:\n",
    "            server.starttls()\n",
    "            server.login('security@fakebank.com', 'password')\n",
    "            server.sendmail('security@fakebank.com', target_email, message.as_string())\n",
    "            print(f\"Phishing email sent to {target_email}\")\n",
    "    except Exception as e:\n",
    "        print(f\"Error sending email: {e}\")\n",
    "\n",
    "# Simulate phishing attack\n",
    "def simulate_phishing(target_name, target_email):\n",
    "    email = generate_phishing_email(target_name, target_email)\n",
    "    send_phishing_email(email, target_email)\n",
    "\n",
    "# Example usage\n",
    "simulate_phishing(fake.name(), fake.email())"
   ]
  }
 ],
 "metadata": {
  "kernelspec": {
   "display_name": "Python 3 (ipykernel)",
   "language": "python",
   "name": "python3"
  },
  "language_info": {
   "codemirror_mode": {
    "name": "ipython",
    "version": 3
   },
   "file_extension": ".py",
   "mimetype": "text/x-python",
   "name": "python",
   "nbconvert_exporter": "python",
   "pygments_lexer": "ipython3",
   "version": "3.11.5"
  }
 },
 "nbformat": 4,
 "nbformat_minor": 5
}
