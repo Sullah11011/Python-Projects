{
 "cells": [
  {
   "cell_type": "code",
   "execution_count": null,
   "id": "8a669426",
   "metadata": {},
   "outputs": [],
   "source": [
    "from web3 import Web3\n",
    "import hashlib\n",
    "\n",
    "# Connect to Ethereum\n",
    "w3 = Web3(Web3.HTTPProvider(\"http://localhost:8545\"))\n",
    "\n",
    "# Smart contract ABI and address\n",
    "contract_address = \"0xYourContractAddress\"\n",
    "contract_abi = [...]  # ABI of the log integrity contract\n",
    "\n",
    "# Set up the contract\n",
    "contract = w3.eth.contract(address=contract_address, abi=contract_abi)\n",
    "\n",
    "# Function to generate the log entry hash\n",
    "def generate_log_entry_hash(log_entry):\n",
    "    log_hash = hashlib.sha256(log_entry.encode()).hexdigest()\n",
    "    return log_hash\n",
    "\n",
    "# Function to store log entry hash on the blockchain\n",
    "def store_log_entry_hash(log_entry, sender_address):\n",
    "    log_hash = generate_log_entry_hash(log_entry)\n",
    "    tx = contract.functions.storeLogEntryHash(log_hash).buildTransaction({\n",
    "        'from': sender_address,\n",
    "        'gas': 2000000,\n",
    "        'gasPrice': w3.toWei('20', 'gwei'),\n",
    "        'nonce': w3.eth.getTransactionCount(sender_address),\n",
    "    })\n",
    "    \n",
    "    signed_tx = w3.eth.account.sign_transaction(tx, private_key=\"your_private_key\")\n",
    "    tx_hash = w3.eth.sendRawTransaction(signed_tx.rawTransaction)\n",
    "    return w3.toHex(tx_hash)\n",
    "\n",
    "# Example of storing a log entry hash on the blockchain\n",
    "log_entry = \"User logged in at 2024-11-10 12:00:00\"\n",
    "sender_address = \"0xYourAddress\"\n",
    "tx_hash = store_log_entry_hash(log_entry, sender_address)\n",
    "print(f\"Log entry hash stored, transaction hash: {tx_hash}\")"
   ]
  }
 ],
 "metadata": {
  "kernelspec": {
   "display_name": "Python 3 (ipykernel)",
   "language": "python",
   "name": "python3"
  },
  "language_info": {
   "codemirror_mode": {
    "name": "ipython",
    "version": 3
   },
   "file_extension": ".py",
   "mimetype": "text/x-python",
   "name": "python",
   "nbconvert_exporter": "python",
   "pygments_lexer": "ipython3",
   "version": "3.11.5"
  }
 },
 "nbformat": 4,
 "nbformat_minor": 5
}
