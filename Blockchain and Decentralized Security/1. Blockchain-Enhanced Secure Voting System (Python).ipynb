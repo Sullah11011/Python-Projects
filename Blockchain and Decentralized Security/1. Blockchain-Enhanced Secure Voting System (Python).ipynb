{
 "cells": [
  {
   "cell_type": "code",
   "execution_count": null,
   "id": "cbef942e",
   "metadata": {},
   "outputs": [],
   "source": [
    "from web3 import Web3\n",
    "from web3.middleware import geth_poa_middleware\n",
    "\n",
    "# Connect to Ethereum\n",
    "w3 = Web3(Web3.HTTPProvider(\"http://localhost:8545\"))\n",
    "w3.middleware_stack.inject(geth_poa_middleware, layer=0)\n",
    "\n",
    "# Define the voting smart contract ABI and address\n",
    "voting_contract_address = \"0xYourContractAddress\"\n",
    "voting_contract_abi = [...]  # ABI of the deployed contract\n",
    "\n",
    "# Set up the contract\n",
    "voting_contract = w3.eth.contract(address=voting_contract_address, abi=voting_contract_abi)\n",
    "\n",
    "# Function to vote\n",
    "def vote(candidate_index, voter_address):\n",
    "    # Send the transaction to vote\n",
    "    tx = voting_contract.functions.vote(candidate_index).buildTransaction({\n",
    "        'from': voter_address,\n",
    "        'gas': 2000000,\n",
    "        'gasPrice': w3.toWei('20', 'gwei'),\n",
    "        'nonce': w3.eth.getTransactionCount(voter_address),\n",
    "    })\n",
    "    \n",
    "    # Sign and send the transaction\n",
    "    signed_tx = w3.eth.account.sign_transaction(tx, private_key=\"your_private_key\")\n",
    "    tx_hash = w3.eth.sendRawTransaction(signed_tx.rawTransaction)\n",
    "    return w3.toHex(tx_hash)\n",
    "\n",
    "# Example of voting\n",
    "voter_address = \"0xYourVoterAddress\"\n",
    "candidate_index = 1  # Index of the candidate\n",
    "tx_hash = vote(candidate_index, voter_address)\n",
    "print(f\"Vote submitted, transaction hash: {tx_hash}\")"
   ]
  }
 ],
 "metadata": {
  "kernelspec": {
   "display_name": "Python 3 (ipykernel)",
   "language": "python",
   "name": "python3"
  },
  "language_info": {
   "codemirror_mode": {
    "name": "ipython",
    "version": 3
   },
   "file_extension": ".py",
   "mimetype": "text/x-python",
   "name": "python",
   "nbconvert_exporter": "python",
   "pygments_lexer": "ipython3",
   "version": "3.11.5"
  }
 },
 "nbformat": 4,
 "nbformat_minor": 5
}
