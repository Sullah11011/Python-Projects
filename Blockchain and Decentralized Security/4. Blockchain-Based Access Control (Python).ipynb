{
 "cells": [
  {
   "cell_type": "code",
   "execution_count": null,
   "id": "a9caafb4",
   "metadata": {},
   "outputs": [],
   "source": [
    "from web3 import Web3\n",
    "\n",
    "# Connect to Ethereum\n",
    "w3 = Web3(Web3.HTTPProvider(\"http://localhost:8545\"))\n",
    "\n",
    "# Smart contract ABI and address\n",
    "contract_address = \"0xYourContractAddress\"\n",
    "contract_abi = [...]  # ABI of the access control contract\n",
    "\n",
    "# Set up the contract\n",
    "contract = w3.eth.contract(address=contract_address, abi=contract_abi)\n",
    "\n",
    "# Function to check access\n",
    "def check_access(user_address):\n",
    "    has_access = contract.functions.hasAccess(user_address).call()\n",
    "    return has_access\n",
    "\n",
    "# Example of checking access\n",
    "user_address = \"0xUserAddress\"\n",
    "access = check_access(user_address)\n",
    "print(f\"Access granted: {access}\")"
   ]
  }
 ],
 "metadata": {
  "kernelspec": {
   "display_name": "Python 3 (ipykernel)",
   "language": "python",
   "name": "python3"
  },
  "language_info": {
   "codemirror_mode": {
    "name": "ipython",
    "version": 3
   },
   "file_extension": ".py",
   "mimetype": "text/x-python",
   "name": "python",
   "nbconvert_exporter": "python",
   "pygments_lexer": "ipython3",
   "version": "3.11.5"
  }
 },
 "nbformat": 4,
 "nbformat_minor": 5
}
