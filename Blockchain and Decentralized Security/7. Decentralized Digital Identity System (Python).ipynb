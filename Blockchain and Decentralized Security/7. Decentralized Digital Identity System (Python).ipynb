{
 "cells": [
  {
   "cell_type": "code",
   "execution_count": null,
   "id": "30c7a251",
   "metadata": {},
   "outputs": [],
   "source": [
    "from web3 import Web3\n",
    "\n",
    "# Connect to Ethereum\n",
    "w3 = Web3(Web3.HTTPProvider(\"http://localhost:8545\"))\n",
    "\n",
    "# Smart contract ABI and address for decentralized identity\n",
    "contract_address = \"0xYourContractAddress\"\n",
    "contract_abi = [...]  # ABI of the identity contract\n",
    "\n",
    "# Set up the contract\n",
    "contract = w3.eth.contract(address=contract_address, abi=contract_abi)\n",
    "\n",
    "# Function to register digital identity\n",
    "def register_identity(user_address, identity_data):\n",
    "    tx = contract.functions.registerIdentity(user_address, identity_data).buildTransaction({\n",
    "        'from': user_address,\n",
    "        'gas': 2000000,\n",
    "        'gasPrice': w3.toWei('20', 'gwei'),\n",
    "        'nonce': w3.eth.getTransactionCount(user_address),\n",
    "    })\n",
    "    \n",
    "    signed_tx = w3.eth.account.sign_transaction(tx, private_key=\"your_private_key\")\n",
    "    tx_hash = w3.eth.sendRawTransaction(signed_tx.rawTransaction)\n",
    "    return w3.toHex(tx_hash)\n",
    "\n",
    "# Example of registering identity\n",
    "user_address = \"0xUserAddress\"\n",
    "identity_data = {\"name\": \"John Doe\", \"dob\": \"1990-01-01\", \"email\": \"john@example.com\"}\n",
    "tx_hash = register_identity(user_address, identity_data)\n",
    "print(f\"Identity registered, transaction hash: {tx_hash}\")"
   ]
  }
 ],
 "metadata": {
  "kernelspec": {
   "display_name": "Python 3 (ipykernel)",
   "language": "python",
   "name": "python3"
  },
  "language_info": {
   "codemirror_mode": {
    "name": "ipython",
    "version": 3
   },
   "file_extension": ".py",
   "mimetype": "text/x-python",
   "name": "python",
   "nbconvert_exporter": "python",
   "pygments_lexer": "ipython3",
   "version": "3.11.5"
  }
 },
 "nbformat": 4,
 "nbformat_minor": 5
}
