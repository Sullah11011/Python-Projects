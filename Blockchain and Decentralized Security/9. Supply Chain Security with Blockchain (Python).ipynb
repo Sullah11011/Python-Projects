{
 "cells": [
  {
   "cell_type": "code",
   "execution_count": null,
   "id": "ccbb8709",
   "metadata": {},
   "outputs": [],
   "source": [
    "from web3 import Web3\n",
    "\n",
    "# Connect to Ethereum\n",
    "w3 = Web3(Web3.HTTPProvider(\"http://localhost:8545\"))\n",
    "\n",
    "# Smart contract ABI and address\n",
    "contract_address = \"0xYourContractAddress\"\n",
    "contract_abi = [...]  # ABI of the supply chain contract\n",
    "\n",
    "# Set up the contract\n",
    "contract = w3.eth.contract(address=contract_address, abi=contract_abi)\n",
    "\n",
    "# Function to register supply chain event\n",
    "def register_supply_chain_event(product_id, event_data, sender_address):\n",
    "    tx = contract.functions.addSupplyChainEvent(product_id, event_data).buildTransaction({\n",
    "        'from': sender_address,\n",
    "        'gas': 2000000,\n",
    "        'gasPrice': w3.toWei('20', 'gwei'),\n",
    "        'nonce': w3.eth.getTransactionCount(sender_address),\n",
    "    })\n",
    "    \n",
    "    signed_tx = w3.eth.account.sign_transaction(tx, private_key=\"your_private_key\")\n",
    "    tx_hash = w3.eth.sendRawTransaction(signed_tx.rawTransaction)\n",
    "    return w3.toHex(tx_hash)\n",
    "\n",
    "# Example of registering a supply chain event\n",
    "product_id = \"12345\"\n",
    "event_data = \"Product shipped from warehouse to retailer\"\n",
    "sender_address = \"0xYourAddress\"\n",
    "tx_hash = register_supply_chain_event(product_id, event_data, sender_address)\n",
    "print(f\"Supply chain event registered, transaction hash: {tx_hash}\")"
   ]
  }
 ],
 "metadata": {
  "kernelspec": {
   "display_name": "Python 3 (ipykernel)",
   "language": "python",
   "name": "python3"
  },
  "language_info": {
   "codemirror_mode": {
    "name": "ipython",
    "version": 3
   },
   "file_extension": ".py",
   "mimetype": "text/x-python",
   "name": "python",
   "nbconvert_exporter": "python",
   "pygments_lexer": "ipython3",
   "version": "3.11.5"
  }
 },
 "nbformat": 4,
 "nbformat_minor": 5
}
