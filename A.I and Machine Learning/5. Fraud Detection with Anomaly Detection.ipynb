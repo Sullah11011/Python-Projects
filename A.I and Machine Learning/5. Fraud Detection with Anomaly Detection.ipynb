{
 "cells": [
  {
   "cell_type": "code",
   "execution_count": null,
   "id": "31dd2f68",
   "metadata": {},
   "outputs": [],
   "source": [
    "from tensorflow.keras import layers, models\n",
    "from sklearn.preprocessing import StandardScaler\n",
    "import numpy as np\n",
    "\n",
    "# Load and preprocess data\n",
    "X = df.drop('fraud_label', axis=1)  # Replace 'fraud_label' with your actual label column\n",
    "scaler = StandardScaler()\n",
    "X_scaled = scaler.fit_transform(X)\n",
    "\n",
    "# Define autoencoder model\n",
    "input_dim = X.shape[1]\n",
    "autoencoder = models.Sequential([\n",
    "    layers.InputLayer(input_shape=(input_dim,)),\n",
    "    layers.Dense(64, activation='relu'),\n",
    "    layers.Dense(32, activation='relu'),\n",
    "    layers.Dense(64, activation='relu'),\n",
    "    layers.Dense(input_dim, activation='sigmoid')\n",
    "])\n",
    "\n",
    "autoencoder.compile(optimizer='adam', loss='mse')\n",
    "autoencoder.fit(X_scaled, X_scaled, epochs=50, batch_size=32, validation_split=0.1)\n",
    "\n",
    "# Predict and detect anomalies\n",
    "reconstructions = autoencoder.predict(X_scaled)\n",
    "mse = np.mean(np.power(X_scaled - reconstructions, 2), axis=1)\n",
    "threshold = np.percentile(mse, 95)\n",
    "df['anomaly'] = mse > threshold\n",
    "\n",
    "# Evaluate detection rate\n",
    "fraud_detected = df[df['anomaly'] == True]\n",
    "print(f\"Detected {len(fraud_detected)} potential fraud cases.\")"
   ]
  }
 ],
 "metadata": {
  "kernelspec": {
   "display_name": "Python 3 (ipykernel)",
   "language": "python",
   "name": "python3"
  },
  "language_info": {
   "codemirror_mode": {
    "name": "ipython",
    "version": 3
   },
   "file_extension": ".py",
   "mimetype": "text/x-python",
   "name": "python",
   "nbconvert_exporter": "python",
   "pygments_lexer": "ipython3",
   "version": "3.11.5"
  }
 },
 "nbformat": 4,
 "nbformat_minor": 5
}
