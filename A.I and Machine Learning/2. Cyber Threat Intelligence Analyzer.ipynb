{
 "cells": [
  {
   "cell_type": "code",
   "execution_count": null,
   "id": "c12eadd6",
   "metadata": {},
   "outputs": [],
   "source": [
    "import pandas as pd\n",
    "import re\n",
    "from sklearn.feature_extraction.text import TfidfVectorizer\n",
    "from sklearn.decomposition import PCA\n",
    "from sklearn.ensemble import IsolationForest\n",
    "import matplotlib.pyplot as plt\n",
    "import seaborn as sns\n",
    "\n",
    "# Load dataset\n",
    "df = pd.read_csv('threat_intel_data.csv')  # Replace with actual dataset path\n",
    "df['clean_text'] = df['text'].apply(lambda x: re.sub(r'\\W+', ' ', x.lower()))\n",
    "\n",
    "# TF-IDF transformation\n",
    "tfidf = TfidfVectorizer(max_features=500)\n",
    "X = tfidf.fit_transform(df['clean_text']).toarray()\n",
    "\n",
    "# Dimensionality reduction for Isolation Forest\n",
    "pca = PCA(n_components=10)\n",
    "X_pca = pca.fit_transform(X)\n",
    "\n",
    "# Anomaly detection with Isolation Forest\n",
    "isolation_forest = IsolationForest(contamination=0.1, random_state=42)\n",
    "df['anomaly'] = isolation_forest.fit_predict(X_pca)\n",
    "\n",
    "# Visualize anomalies\n",
    "plt.figure(figsize=(10, 6))\n",
    "sns.scatterplot(x=X_pca[:, 0], y=X_pca[:, 1], hue=df['anomaly'], palette={1: 'blue', -1: 'red'})\n",
    "plt.title(\"Anomaly Detection in Threat Intelligence Data\")\n",
    "plt.xlabel(\"PCA Component 1\")\n",
    "plt.ylabel(\"PCA Component 2\")\n",
    "plt.show()"
   ]
  }
 ],
 "metadata": {
  "kernelspec": {
   "display_name": "Python 3 (ipykernel)",
   "language": "python",
   "name": "python3"
  },
  "language_info": {
   "codemirror_mode": {
    "name": "ipython",
    "version": 3
   },
   "file_extension": ".py",
   "mimetype": "text/x-python",
   "name": "python",
   "nbconvert_exporter": "python",
   "pygments_lexer": "ipython3",
   "version": "3.11.5"
  }
 },
 "nbformat": 4,
 "nbformat_minor": 5
}
