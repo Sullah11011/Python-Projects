{
 "cells": [
  {
   "cell_type": "code",
   "execution_count": null,
   "id": "4c32c8d2",
   "metadata": {},
   "outputs": [],
   "source": [
    "import pandas as pd\n",
    "import numpy as np\n",
    "from sklearn.ensemble import RandomForestClassifier\n",
    "from sklearn.model_selection import train_test_split, GridSearchCV\n",
    "from xgboost import XGBClassifier\n",
    "from sklearn.metrics import accuracy_score, confusion_matrix, classification_report\n",
    "import tensorflow as tf\n",
    "from tensorflow.keras import Sequential\n",
    "from tensorflow.keras.layers import Dense\n",
    "\n",
    "# Load and preprocess dataset\n",
    "df = pd.read_csv('network_data.csv')  # Replace with actual dataset path\n",
    "X = df.drop('label', axis=1)\n",
    "y = df['label']\n",
    "\n",
    "# Split data\n",
    "X_train, X_test, y_train, y_test = train_test_split(X, y, test_size=0.3, random_state=42)\n",
    "\n",
    "# Function to evaluate models\n",
    "def evaluate_model(model, X_test, y_test):\n",
    "    predictions = model.predict(X_test)\n",
    "    accuracy = accuracy_score(y_test, predictions)\n",
    "    print(f\"Accuracy: {accuracy}\")\n",
    "    print(\"Confusion Matrix:\\n\", confusion_matrix(y_test, predictions))\n",
    "    print(\"Classification Report:\\n\", classification_report(y_test, predictions))\n",
    "\n",
    "# 1. Train and evaluate using RandomForest with GridSearchCV for hyperparameter tuning\n",
    "rf_model = RandomForestClassifier()\n",
    "param_grid_rf = {'n_estimators': [50, 100, 200], 'max_depth': [None, 10, 20]}\n",
    "grid_rf = GridSearchCV(rf_model, param_grid_rf, cv=3)\n",
    "grid_rf.fit(X_train, y_train)\n",
    "evaluate_model(grid_rf.best_estimator_, X_test, y_test)\n",
    "\n",
    "# 2. Train and evaluate using XGBoost\n",
    "xgb_model = XGBClassifier()\n",
    "param_grid_xgb = {'max_depth': [3, 6, 10], 'n_estimators': [50, 100, 200]}\n",
    "grid_xgb = GridSearchCV(xgb_model, param_grid_xgb, cv=3)\n",
    "grid_xgb.fit(X_train, y_train)\n",
    "evaluate_model(grid_xgb.best_estimator_, X_test, y_test)\n",
    "\n",
    "# 3. Deep learning model for IDS\n",
    "dl_model = Sequential([\n",
    "    Dense(64, activation='relu', input_shape=(X_train.shape[1],)),\n",
    "    Dense(32, activation='relu'),\n",
    "    Dense(1, activation='sigmoid')\n",
    "])\n",
    "dl_model.compile(optimizer='adam', loss='binary_crossentropy', metrics=['accuracy'])\n",
    "dl_model.fit(X_train, y_train, epochs=10, batch_size=32, validation_split=0.1)\n",
    "dl_preds = dl_model.predict(X_test)\n",
    "dl_preds = (dl_preds > 0.5).astype(int).reshape(-1)\n",
    "print(\"Deep Learning Model Evaluation:\")\n",
    "evaluate_model(dl_model, X_test, y_test)"
   ]
  }
 ],
 "metadata": {
  "kernelspec": {
   "display_name": "Python 3 (ipykernel)",
   "language": "python",
   "name": "python3"
  },
  "language_info": {
   "codemirror_mode": {
    "name": "ipython",
    "version": 3
   },
   "file_extension": ".py",
   "mimetype": "text/x-python",
   "name": "python",
   "nbconvert_exporter": "python",
   "pygments_lexer": "ipython3",
   "version": "3.11.5"
  }
 },
 "nbformat": 4,
 "nbformat_minor": 5
}
