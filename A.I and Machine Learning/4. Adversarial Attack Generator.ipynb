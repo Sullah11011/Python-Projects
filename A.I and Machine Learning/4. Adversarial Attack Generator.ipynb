{
 "cells": [
  {
   "cell_type": "code",
   "execution_count": null,
   "id": "7a29657c",
   "metadata": {},
   "outputs": [],
   "source": [
    "import numpy as np\n",
    "import tensorflow as tf\n",
    "from tensorflow.keras.models import load_model\n",
    "from tensorflow.keras.losses import SparseCategoricalCrossentropy\n",
    "\n",
    "# Load pre-trained model and test sample\n",
    "model = load_model('model.h5')  # Replace with your model path\n",
    "x_test_sample = np.array([X_test[0]])  # Replace with actual test sample\n",
    "y_test_label = np.array([y_test[0]])  # Replace with actual label\n",
    "\n",
    "# FGSM attack implementation\n",
    "loss_object = SparseCategoricalCrossentropy()\n",
    "epsilon = 0.1  # Set epsilon for FGSM attack\n",
    "\n",
    "with tf.GradientTape() as tape:\n",
    "    tape.watch(x_test_sample)\n",
    "    prediction = model(x_test_sample)\n",
    "    loss = loss_object(y_test_label, prediction)\n",
    "\n",
    "# Calculate gradients and perturbation\n",
    "gradients = tape.gradient(loss, x_test_sample)\n",
    "adv_x = x_test_sample + epsilon * tf.sign(gradients)\n",
    "adv_x = tf.clip_by_value(adv_x, 0, 1)\n",
    "\n",
    "# Evaluate adversarial example\n",
    "print(\"Original Prediction:\", model.predict(x_test_sample))\n",
    "print(\"Adversarial Prediction:\", model.predict(adv_x))\n"
   ]
  }
 ],
 "metadata": {
  "kernelspec": {
   "display_name": "Python 3 (ipykernel)",
   "language": "python",
   "name": "python3"
  },
  "language_info": {
   "codemirror_mode": {
    "name": "ipython",
    "version": 3
   },
   "file_extension": ".py",
   "mimetype": "text/x-python",
   "name": "python",
   "nbconvert_exporter": "python",
   "pygments_lexer": "ipython3",
   "version": "3.11.5"
  }
 },
 "nbformat": 4,
 "nbformat_minor": 5
}
