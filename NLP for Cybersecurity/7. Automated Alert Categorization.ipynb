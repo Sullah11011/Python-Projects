{
 "cells": [
  {
   "cell_type": "code",
   "execution_count": null,
   "id": "f7103512",
   "metadata": {},
   "outputs": [],
   "source": [
    "# Install necessary libraries\n",
    "# pip install scikit-learn joblib\n",
    "\n",
    "from sklearn.feature_extraction.text import CountVectorizer\n",
    "from sklearn.naive_bayes import MultinomialNB\n",
    "import joblib\n",
    "\n",
    "# Example training data (Alert text and its corresponding category)\n",
    "train_data = [\n",
    "    (\"Suspicious login attempt from foreign IP\", \"Phishing\"),\n",
    "    (\"Denial of service attack detected on the network\", \"DDoS\"),\n",
    "    (\"Malware detected on endpoint device\", \"Malware\"),\n",
    "    (\"Critical vulnerability in web application exposed\", \"Vulnerability\"),\n",
    "]\n",
    "\n",
    "# Split data into alerts and labels\n",
    "alerts, labels = zip(*train_data)\n",
    "\n",
    "# Vectorizing the text\n",
    "vectorizer = CountVectorizer()\n",
    "X_train = vectorizer.fit_transform(alerts)\n",
    "\n",
    "# Train a Naive Bayes classifier\n",
    "model = MultinomialNB()\n",
    "model.fit(X_train, labels)\n",
    "\n",
    "# Save the model and vectorizer for future use\n",
    "joblib.dump(model, 'alert_classifier_model.pkl')\n",
    "joblib.dump(vectorizer, 'alert_vectorizer.pkl')\n",
    "\n",
    "# Function to categorize new alerts\n",
    "def categorize_alert(alert: str) -> str:\n",
    "    \"\"\"\n",
    "    Categorizes a security alert based on its content.\n",
    "    \"\"\"\n",
    "    vectorizer = joblib.load('alert_vectorizer.pkl')\n",
    "    model = joblib.load('alert_classifier_model.pkl')\n",
    "\n",
    "    # Preprocess and vectorize the input alert\n",
    "    alert_vector = vectorizer.transform([alert])\n",
    "    \n",
    "    # Predict the category\n",
    "    prediction = model.predict(alert_vector)\n",
    "    \n",
    "    return prediction[0]\n",
    "\n",
    "# Example usage\n",
    "alert_text = \"Suspicious login attempt from foreign IP\"\n",
    "category = categorize_alert(alert_text)\n",
    "print(f\"Alert Category: {category}\")"
   ]
  }
 ],
 "metadata": {
  "kernelspec": {
   "display_name": "Python 3 (ipykernel)",
   "language": "python",
   "name": "python3"
  },
  "language_info": {
   "codemirror_mode": {
    "name": "ipython",
    "version": 3
   },
   "file_extension": ".py",
   "mimetype": "text/x-python",
   "name": "python",
   "nbconvert_exporter": "python",
   "pygments_lexer": "ipython3",
   "version": "3.11.5"
  }
 },
 "nbformat": 4,
 "nbformat_minor": 5
}
