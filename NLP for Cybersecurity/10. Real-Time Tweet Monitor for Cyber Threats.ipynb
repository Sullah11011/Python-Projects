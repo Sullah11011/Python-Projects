{
 "cells": [
  {
   "cell_type": "code",
   "execution_count": null,
   "id": "0970134a",
   "metadata": {},
   "outputs": [],
   "source": [
    "# Install necessary libraries\n",
    "# pip install tweepy transformers\n",
    "\n",
    "import tweepy\n",
    "from transformers import pipeline\n",
    "\n",
    "# Twitter API credentials (replace with your credentials)\n",
    "consumer_key = 'your_consumer_key'\n",
    "consumer_secret = 'your_consumer_secret'\n",
    "access_token = 'your_access_token'\n",
    "access_token_secret = 'your_access_token_secret'\n",
    "\n",
    "# Authentication with Twitter API\n",
    "auth = tweepy.OAuthHandler(consumer_key, consumer_secret)\n",
    "auth.set_access_token(access_token, access_token_secret)\n",
    "api = tweepy.API(auth)\n",
    "\n",
    "# Initialize sentiment analysis pipeline\n",
    "sentiment_analyzer = pipeline(\"sentiment-analysis\")\n",
    "\n",
    "# Monitor Twitter for cyber threats\n",
    "def monitor_twitter_for_threats(keywords: str):\n",
    "    public_tweets = api.search_tweets(q=keywords, count=10)\n",
    "    \n",
    "    for tweet in public_tweets:\n",
    "        print(f\"Tweet: {tweet.text}\")\n",
    "        sentiment = sentiment_analyzer(tweet.text)\n",
    "        print(f\"Sentiment: {sentiment[0]['label']}\")\n",
    "        \n",
    "        if sentiment[0]['label'] == \"NEGATIVE\":\n",
    "            print(\"Potential Cybersecurity Threat Detected!\\n\")\n",
    "\n",
    "# Example usage\n",
    "monitor_twitter_for_threats(\"cyber attack vulnerability\")"
   ]
  }
 ],
 "metadata": {
  "kernelspec": {
   "display_name": "Python 3 (ipykernel)",
   "language": "python",
   "name": "python3"
  },
  "language_info": {
   "codemirror_mode": {
    "name": "ipython",
    "version": 3
   },
   "file_extension": ".py",
   "mimetype": "text/x-python",
   "name": "python",
   "nbconvert_exporter": "python",
   "pygments_lexer": "ipython3",
   "version": "3.11.5"
  }
 },
 "nbformat": 4,
 "nbformat_minor": 5
}
