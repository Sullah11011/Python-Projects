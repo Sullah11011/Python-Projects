{
 "cells": [
  {
   "cell_type": "code",
   "execution_count": null,
   "id": "77d077b1",
   "metadata": {},
   "outputs": [],
   "source": [
    "# Install necessary libraries\n",
    "# pip install scikit-learn joblib\n",
    "\n",
    "import re\n",
    "import joblib\n",
    "from sklearn.feature_extraction.text import CountVectorizer\n",
    "from sklearn.naive_bayes import MultinomialNB\n",
    "\n",
    "# Load pre-trained phishing detection model and vectorizer\n",
    "phishing_model = joblib.load('phishing_detection_model.pkl')\n",
    "vectorizer = joblib.load('email_vectorizer.pkl')\n",
    "\n",
    "def preprocess_email(email_text: str) -> str:\n",
    "    \"\"\"\n",
    "    Preprocess the email text by removing special characters, links, and unnecessary whitespace.\n",
    "    \"\"\"\n",
    "    email_text = re.sub(r'http\\S+', '', email_text)  # Remove URLs\n",
    "    email_text = re.sub(r'[^a-zA-Z\\s]', '', email_text)  # Remove non-alphabetic characters\n",
    "    return email_text.lower()\n",
    "\n",
    "def detect_phishing(email_text: str) -> str:\n",
    "    \"\"\"\n",
    "    Detect phishing attempts using a pre-trained machine learning model.\n",
    "    \"\"\"\n",
    "    preprocessed_text = preprocess_email(email_text)\n",
    "    features = vectorizer.transform([preprocessed_text])\n",
    "    prediction = phishing_model.predict(features)\n",
    "    \n",
    "    if prediction == 1:\n",
    "        return \"Phishing Attempt Detected!\"\n",
    "    else:\n",
    "        return \"Safe Email\"\n",
    "\n",
    "# Example usage\n",
    "email_text = \"\"\"\n",
    "Dear User, Your account has been compromised! Please reset your password immediately using this link: \n",
    "http://maliciouslink.com/reset\n",
    "\"\"\"\n",
    "result = detect_phishing(email_text)\n",
    "print(result)"
   ]
  }
 ],
 "metadata": {
  "kernelspec": {
   "display_name": "Python 3 (ipykernel)",
   "language": "python",
   "name": "python3"
  },
  "language_info": {
   "codemirror_mode": {
    "name": "ipython",
    "version": 3
   },
   "file_extension": ".py",
   "mimetype": "text/x-python",
   "name": "python",
   "nbconvert_exporter": "python",
   "pygments_lexer": "ipython3",
   "version": "3.11.5"
  }
 },
 "nbformat": 4,
 "nbformat_minor": 5
}
