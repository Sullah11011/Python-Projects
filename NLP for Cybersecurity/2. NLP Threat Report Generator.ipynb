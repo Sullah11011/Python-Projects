{
 "cells": [
  {
   "cell_type": "code",
   "execution_count": null,
   "id": "e8e07270",
   "metadata": {},
   "outputs": [],
   "source": [
    "# Install necessary libraries\n",
    "# pip install transformers\n",
    "\n",
    "from transformers import pipeline\n",
    "\n",
    "# Initialize GPT-2 model for text generation\n",
    "generator = pipeline(\"text-generation\", model=\"gpt2\")\n",
    "\n",
    "def generate_threat_report(vulnerabilities: str) -> str:\n",
    "    \"\"\"\n",
    "    Automatically generates a comprehensive threat report based on detected vulnerabilities.\n",
    "    \"\"\"\n",
    "    # Construct a prompt based on the detected vulnerabilities\n",
    "    prompt = f\"\"\"\n",
    "    Generate a detailed threat report based on the following vulnerabilities:\n",
    "    - {vulnerabilities}\n",
    "    The report should include:\n",
    "    - Severity of each vulnerability\n",
    "    - Potential impact\n",
    "    - Suggested mitigation strategies\n",
    "    \"\"\"\n",
    "    \n",
    "    # Generate the report using GPT-2\n",
    "    report = generator(prompt, max_length=400, num_return_sequences=1, no_repeat_ngram_size=3)\n",
    "    \n",
    "    # Return the generated text\n",
    "    return report[0]['generated_text']\n",
    "\n",
    "# Example usage\n",
    "vulnerabilities_text = \"\"\"\n",
    "SQL Injection vulnerability found in the login page, XSS vulnerability in the admin dashboard, Buffer overflow in network services.\n",
    "\"\"\"\n",
    "threat_report = generate_threat_report(vulnerabilities_text)\n",
    "print(\"Generated Threat Report:\")\n",
    "print(threat_report)"
   ]
  }
 ],
 "metadata": {
  "kernelspec": {
   "display_name": "Python 3 (ipykernel)",
   "language": "python",
   "name": "python3"
  },
  "language_info": {
   "codemirror_mode": {
    "name": "ipython",
    "version": 3
   },
   "file_extension": ".py",
   "mimetype": "text/x-python",
   "name": "python",
   "nbconvert_exporter": "python",
   "pygments_lexer": "ipython3",
   "version": "3.11.5"
  }
 },
 "nbformat": 4,
 "nbformat_minor": 5
}
