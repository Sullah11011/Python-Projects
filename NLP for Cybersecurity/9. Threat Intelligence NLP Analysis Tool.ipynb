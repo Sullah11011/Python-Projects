{
 "cells": [
  {
   "cell_type": "code",
   "execution_count": null,
   "id": "eaa6cd3b",
   "metadata": {},
   "outputs": [],
   "source": [
    "# Install necessary libraries\n",
    "# pip install spacy gensim nltk\n",
    "\n",
    "import spacy\n",
    "import gensim\n",
    "from gensim import corpora\n",
    "import nltk\n",
    "from nltk.corpus import stopwords\n",
    "\n",
    "# Initialize spaCy model for NER\n",
    "nlp = spacy.load(\"en_core_web_sm\")\n",
    "\n",
    "# Example threat intelligence feed\n",
    "intelligence_feed = [\n",
    "    \"Advanced persistent threat (APT) group APT28 launched a spear-phishing attack against critical infrastructure.\",\n",
    "    \"New vulnerability discovered in Apache Struts, CVE-2024-12345, is being actively exploited in the wild.\",\n",
    "    \"DDoS attacks from a botnet using Mirai malware have been targeting cloud service providers in Asia.\"\n",
    "]\n",
    "\n",
    "# Preprocess text by removing stopwords\n",
    "stop_words = set(stopwords.words(\"english\"))\n",
    "def preprocess_text(text):\n",
    "    return [word for word in text.lower().split() if word not in stop_words]\n",
    "\n",
    "# Preprocessing the feed\n",
    "processed_feed = [preprocess_text(text) for text in intelligence_feed]\n",
    "\n",
    "# Create a dictionary and corpus for topic modeling\n",
    "dictionary = corpora.Dictionary(processed_feed)\n",
    "corpus = [dictionary.doc2bow(text) for text in processed_feed]\n",
    "\n",
    "# Use Latent Dirichlet Allocation (LDA) for topic modeling\n",
    "lda_model = gensim.models.LdaMulticore(corpus, num_topics=3, id2word=dictionary, passes=10)\n",
    "\n",
    "# Print the topics discovered by LDA\n",
    "for idx, topic in lda_model.print_topics(-1):\n",
    "    print(f\"Topic {idx}: {topic}\")\n",
    "\n",
    "# Named Entity Recognition (NER) to extract specific threat entities (APT groups, CVE identifiers)\n",
    "def extract_threat_entities(text):\n",
    "    doc = nlp(text)\n",
    "    entities = [(ent.text, ent.label_) for ent in doc.ents]\n",
    "    return entities\n",
    "\n",
    "# Example of extracting threat-related entities\n",
    "for text in intelligence_feed:\n",
    "    print(extract_threat_entities(text))"
   ]
  }
 ],
 "metadata": {
  "kernelspec": {
   "display_name": "Python 3 (ipykernel)",
   "language": "python",
   "name": "python3"
  },
  "language_info": {
   "codemirror_mode": {
    "name": "ipython",
    "version": 3
   },
   "file_extension": ".py",
   "mimetype": "text/x-python",
   "name": "python",
   "nbconvert_exporter": "python",
   "pygments_lexer": "ipython3",
   "version": "3.11.5"
  }
 },
 "nbformat": 4,
 "nbformat_minor": 5
}
