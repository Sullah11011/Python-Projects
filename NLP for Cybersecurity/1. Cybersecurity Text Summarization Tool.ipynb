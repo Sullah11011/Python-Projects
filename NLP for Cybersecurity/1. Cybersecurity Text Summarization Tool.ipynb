{
 "cells": [
  {
   "cell_type": "code",
   "execution_count": null,
   "id": "5b4bbdcc",
   "metadata": {},
   "outputs": [],
   "source": [
    "# Install necessary libraries\n",
    "# pip install transformers nltk\n",
    "\n",
    "from transformers import pipeline\n",
    "import nltk\n",
    "import string\n",
    "\n",
    "# Initialize BART summarization model from Hugging Face\n",
    "summarizer = pipeline(\"summarization\", model=\"facebook/bart-large-cnn\")\n",
    "\n",
    "# Preprocessing function to clean the text\n",
    "def preprocess_text(text: str) -> str:\n",
    "    \"\"\"\n",
    "    Preprocesses the input text by removing special characters and irrelevant parts.\n",
    "    \"\"\"\n",
    "    # Remove unwanted characters (punctuation, special characters)\n",
    "    text = text.translate(str.maketrans('', '', string.punctuation))\n",
    "    return text\n",
    "\n",
    "def summarize_report(text: str) -> str:\n",
    "    \"\"\"\n",
    "    Summarizes a long cybersecurity report into a concise form.\n",
    "    \"\"\"\n",
    "    # Clean the input text before summarization\n",
    "    cleaned_text = preprocess_text(text)\n",
    "    \n",
    "    # Use the pre-trained BART model to summarize the text\n",
    "    summary = summarizer(cleaned_text, max_length=200, min_length=50, do_sample=False)\n",
    "    \n",
    "    # Return the summarized text\n",
    "    return summary[0]['summary_text']\n",
    "\n",
    "# Example usage\n",
    "report_text = \"\"\"\n",
    "The organization faced an advanced persistent threat (APT), where attackers used SQL Injection and Cross-Site Scripting (XSS) techniques to gain unauthorized access to the system. \n",
    "The attack compromised several user accounts and led to the leakage of confidential information. \n",
    "An incident response team was immediately dispatched to investigate and mitigate the issue. \n",
    "Patch management was executed to fix the vulnerabilities, and network monitoring was enhanced to detect future threats.\n",
    "\"\"\"\n",
    "summary = summarize_report(report_text)\n",
    "print(\"Summary of the report:\")\n",
    "print(summary)"
   ]
  }
 ],
 "metadata": {
  "kernelspec": {
   "display_name": "Python 3 (ipykernel)",
   "language": "python",
   "name": "python3"
  },
  "language_info": {
   "codemirror_mode": {
    "name": "ipython",
    "version": 3
   },
   "file_extension": ".py",
   "mimetype": "text/x-python",
   "name": "python",
   "nbconvert_exporter": "python",
   "pygments_lexer": "ipython3",
   "version": "3.11.5"
  }
 },
 "nbformat": 4,
 "nbformat_minor": 5
}
